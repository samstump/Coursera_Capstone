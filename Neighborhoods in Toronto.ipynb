{
 "cells": [
  {
   "cell_type": "markdown",
   "metadata": {
    "collapsed": true,
    "pycharm": {
     "name": "#%% md\n"
    }
   },
   "source": [
    "# Segmenting and Clustering Neighborhoods in Toronto\n",
    "## IBM Data Science Capstone\n",
    "#### Sam Stump, December 23, 2019\n",
    "***"
   ]
  },
  {
   "cell_type": "markdown",
   "source": [
    "## Part I\n",
    "### Gather up postal codes for Toronto"
   ],
   "metadata": {
    "collapsed": false,
    "pycharm": {
     "name": "#%% md\n"
    }
   }
  },
  {
   "cell_type": "markdown",
   "source": [
    "- import packages"
   ],
   "metadata": {
    "collapsed": false
   }
  },
  {
   "cell_type": "code",
   "execution_count": 54,
   "outputs": [],
   "source": [
    "import requests\n",
    "from lxml import html\n",
    "import pandas as pd\n",
    "from sklearn.cluster import KMeans\n",
    "import numpy as np\n",
    "import matplotlib.pyplot as plt"
   ],
   "metadata": {
    "collapsed": false,
    "pycharm": {
     "name": "#%%\n",
     "is_executing": false
    }
   }
  },
  {
   "cell_type": "markdown",
   "source": [
    "- request the data from the URL into an HTML tree"
   ],
   "metadata": {
    "collapsed": false,
    "pycharm": {
     "name": "#%% md\n"
    }
   }
  },
  {
   "cell_type": "code",
   "execution_count": 55,
   "outputs": [],
   "source": [
    "from sklearn.cluster import KMeans\n",
    "url = \"https://en.wikipedia.org/wiki/List_of_postal_codes_of_Canada:_M\"\n",
    "page = requests.get(url)\n",
    "tree = html.fromstring(page.content)"
   ],
   "metadata": {
    "collapsed": false,
    "pycharm": {
     "name": "#%%\n",
     "is_executing": false
    }
   }
  },
  {
   "cell_type": "markdown",
   "source": [
    "- parse the HTML tree and create the raw dataframe"
   ],
   "metadata": {
    "collapsed": false,
    "pycharm": {
     "name": "#%% md\n"
    }
   }
  },
  {
   "cell_type": "code",
   "execution_count": 56,
   "outputs": [],
   "source": [
    "i = 0\n",
    "data = []\n",
    "row = []\n",
    "for x in tree.xpath('//table[@class=\"wikitable sortable\"]//tr/td//text()'):\n",
    "    value = x.strip()\n",
    "    if len(value) > 0:\n",
    "        row.append(value)\n",
    "        i += 1\n",
    "    if i % 3 == 0 and len(row) > 0:\n",
    "        data.append(row)\n",
    "        row = []\n",
    "columns = ['PostalCode', 'Borough', 'Neighborhood']\n",
    "df = pd.DataFrame(data, columns=columns)\n"
   ],
   "metadata": {
    "collapsed": false,
    "pycharm": {
     "name": "#%%\n",
     "is_executing": false
    }
   }
  },
  {
   "cell_type": "markdown",
   "source": [
    "- remove rows with 'Not assigned' boroughs\n",
    "- update neighborhoods 'Not assigned' with borough name"
   ],
   "metadata": {
    "collapsed": false
   }
  },
  {
   "cell_type": "code",
   "execution_count": 57,
   "outputs": [],
   "source": [
    "df = df[df.Borough != 'Not assigned']\n",
    "df['Neighborhood'] = df['Borough'].where(df['Neighborhood'] == 'Not assigned', df['Neighborhood'])"
   ],
   "metadata": {
    "collapsed": false,
    "pycharm": {
     "name": "#%%\n",
     "is_executing": false
    }
   }
  },
  {
   "cell_type": "markdown",
   "source": [
    "- group by (postal code, borough) and accumulate a list of neighborhoods"
   ],
   "metadata": {
    "collapsed": false
   }
  },
  {
   "cell_type": "code",
   "execution_count": 58,
   "outputs": [
    {
     "data": {
      "text/plain": "  PostalCode      Borough                                       Neighborhood\n0        M1B  Scarborough                                   [Rouge, Malvern]\n1        M1C  Scarborough           [Highland Creek, Rouge Hill, Port Union]\n2        M1E  Scarborough                [Guildwood, Morningside, West Hill]\n3        M1G  Scarborough                                           [Woburn]\n4        M1H  Scarborough                                        [Cedarbrae]\n5        M1J  Scarborough                              [Scarborough Village]\n6        M1K  Scarborough      [East Birchmount Park, Ionview, Kennedy Park]\n7        M1L  Scarborough                  [Clairlea, Golden Mile, Oakridge]\n8        M1M  Scarborough  [Cliffcrest, Cliffside, Scarborough Village West]\n9        M1N  Scarborough                      [Birch Cliff, Cliffside West]",
      "text/html": "<div>\n<style scoped>\n    .dataframe tbody tr th:only-of-type {\n        vertical-align: middle;\n    }\n\n    .dataframe tbody tr th {\n        vertical-align: top;\n    }\n\n    .dataframe thead th {\n        text-align: right;\n    }\n</style>\n<table border=\"1\" class=\"dataframe\">\n  <thead>\n    <tr style=\"text-align: right;\">\n      <th></th>\n      <th>PostalCode</th>\n      <th>Borough</th>\n      <th>Neighborhood</th>\n    </tr>\n  </thead>\n  <tbody>\n    <tr>\n      <th>0</th>\n      <td>M1B</td>\n      <td>Scarborough</td>\n      <td>[Rouge, Malvern]</td>\n    </tr>\n    <tr>\n      <th>1</th>\n      <td>M1C</td>\n      <td>Scarborough</td>\n      <td>[Highland Creek, Rouge Hill, Port Union]</td>\n    </tr>\n    <tr>\n      <th>2</th>\n      <td>M1E</td>\n      <td>Scarborough</td>\n      <td>[Guildwood, Morningside, West Hill]</td>\n    </tr>\n    <tr>\n      <th>3</th>\n      <td>M1G</td>\n      <td>Scarborough</td>\n      <td>[Woburn]</td>\n    </tr>\n    <tr>\n      <th>4</th>\n      <td>M1H</td>\n      <td>Scarborough</td>\n      <td>[Cedarbrae]</td>\n    </tr>\n    <tr>\n      <th>5</th>\n      <td>M1J</td>\n      <td>Scarborough</td>\n      <td>[Scarborough Village]</td>\n    </tr>\n    <tr>\n      <th>6</th>\n      <td>M1K</td>\n      <td>Scarborough</td>\n      <td>[East Birchmount Park, Ionview, Kennedy Park]</td>\n    </tr>\n    <tr>\n      <th>7</th>\n      <td>M1L</td>\n      <td>Scarborough</td>\n      <td>[Clairlea, Golden Mile, Oakridge]</td>\n    </tr>\n    <tr>\n      <th>8</th>\n      <td>M1M</td>\n      <td>Scarborough</td>\n      <td>[Cliffcrest, Cliffside, Scarborough Village West]</td>\n    </tr>\n    <tr>\n      <th>9</th>\n      <td>M1N</td>\n      <td>Scarborough</td>\n      <td>[Birch Cliff, Cliffside West]</td>\n    </tr>\n  </tbody>\n</table>\n</div>"
     },
     "metadata": {},
     "output_type": "execute_result",
     "execution_count": 58
    }
   ],
   "source": [
    "df = df.groupby(['PostalCode', 'Borough'])['Neighborhood'].apply(list).reset_index(name='Neighborhood')\n",
    "df.head(10)"
   ],
   "metadata": {
    "collapsed": false,
    "pycharm": {
     "name": "#%%\n",
     "is_executing": false
    }
   }
  },
  {
   "cell_type": "markdown",
   "source": [
    "- dataframe shape"
   ],
   "metadata": {
    "collapsed": false,
    "pycharm": {
     "name": "#%% md\n"
    }
   }
  },
  {
   "cell_type": "code",
   "execution_count": 59,
   "outputs": [
    {
     "data": {
      "text/plain": "(103, 3)"
     },
     "metadata": {},
     "output_type": "execute_result",
     "execution_count": 59
    }
   ],
   "source": [
    "df.shape\n"
   ],
   "metadata": {
    "collapsed": false,
    "pycharm": {
     "name": "#%%\n",
     "is_executing": false
    }
   }
  },
  {
   "cell_type": "markdown",
   "source": [
    "## Part II\n",
    "### Find lat/lng for postal codes\n",
    "- import geocoder package"
   ],
   "metadata": {
    "collapsed": false
   }
  },
  {
   "cell_type": "code",
   "execution_count": 60,
   "outputs": [],
   "source": [
    "import geocoder"
   ],
   "metadata": {
    "collapsed": false,
    "pycharm": {
     "name": "#%%\n",
     "is_executing": false
    }
   }
  },
  {
   "cell_type": "markdown",
   "source": [
    "- create 2 new (empty) columns \"Latitude\" and \"Longitude\"\n",
    "- for each PostalCode in the data frame\n",
    "    - call the ArcGIS geocoder\n",
    "    - retrieve the lat, lng from the response and insert into the columns\n",
    "(this cell takes a few minutes to run, be patient)"
   ],
   "metadata": {
    "collapsed": false,
    "pycharm": {
     "name": "#%% md\n"
    }
   }
  },
  {
   "cell_type": "code",
   "execution_count": 61,
   "outputs": [
    {
     "name": "stdout",
     "text": [
      "Geocoding...please wait\n",
      "Done.\n"
     ],
     "output_type": "stream"
    }
   ],
   "source": [
    "lat = []\n",
    "lng = []\n",
    "print(\"Geocoding...please wait\")\n",
    "for e in df['PostalCode']:\n",
    "    place = '{}, Toronto, Canada'.format(e)\n",
    "    g = geocoder.arcgis(place)\n",
    "    z = g.json\n",
    "    lat.append(z['lat'])\n",
    "    lng.append(z['lng'])\n",
    "print(\"Done.\")"
   ],
   "metadata": {
    "collapsed": false,
    "pycharm": {
     "name": "#%%\n",
     "is_executing": false
    }
   }
  },
  {
   "cell_type": "markdown",
   "source": [
    "- append the new columns to the data frame"
   ],
   "metadata": {
    "collapsed": false
   }
  },
  {
   "cell_type": "code",
   "execution_count": 62,
   "outputs": [
    {
     "data": {
      "text/plain": "   PostalCode      Borough                                       Neighborhood  \\\n0         M1B  Scarborough                                   [Rouge, Malvern]   \n1         M1C  Scarborough           [Highland Creek, Rouge Hill, Port Union]   \n2         M1E  Scarborough                [Guildwood, Morningside, West Hill]   \n3         M1G  Scarborough                                           [Woburn]   \n4         M1H  Scarborough                                        [Cedarbrae]   \n5         M1J  Scarborough                              [Scarborough Village]   \n6         M1K  Scarborough      [East Birchmount Park, Ionview, Kennedy Park]   \n7         M1L  Scarborough                  [Clairlea, Golden Mile, Oakridge]   \n8         M1M  Scarborough  [Cliffcrest, Cliffside, Scarborough Village West]   \n9         M1N  Scarborough                      [Birch Cliff, Cliffside West]   \n10        M1P  Scarborough  [Dorset Park, Scarborough Town Centre, Wexford...   \n11        M1R  Scarborough                                [Maryvale, Wexford]   \n\n     Latitude  Longitude  \n0   43.811525 -79.195517  \n1   43.785665 -79.158725  \n2   43.765815 -79.175193  \n3   43.768369 -79.217590  \n4   43.769688 -79.239440  \n5   43.743125 -79.231750  \n6   43.726276 -79.263625  \n7   43.713054 -79.285055  \n8   43.724235 -79.227925  \n9   43.696770 -79.259967  \n10  43.759975 -79.268974  \n11  43.750710 -79.300560  ",
      "text/html": "<div>\n<style scoped>\n    .dataframe tbody tr th:only-of-type {\n        vertical-align: middle;\n    }\n\n    .dataframe tbody tr th {\n        vertical-align: top;\n    }\n\n    .dataframe thead th {\n        text-align: right;\n    }\n</style>\n<table border=\"1\" class=\"dataframe\">\n  <thead>\n    <tr style=\"text-align: right;\">\n      <th></th>\n      <th>PostalCode</th>\n      <th>Borough</th>\n      <th>Neighborhood</th>\n      <th>Latitude</th>\n      <th>Longitude</th>\n    </tr>\n  </thead>\n  <tbody>\n    <tr>\n      <th>0</th>\n      <td>M1B</td>\n      <td>Scarborough</td>\n      <td>[Rouge, Malvern]</td>\n      <td>43.811525</td>\n      <td>-79.195517</td>\n    </tr>\n    <tr>\n      <th>1</th>\n      <td>M1C</td>\n      <td>Scarborough</td>\n      <td>[Highland Creek, Rouge Hill, Port Union]</td>\n      <td>43.785665</td>\n      <td>-79.158725</td>\n    </tr>\n    <tr>\n      <th>2</th>\n      <td>M1E</td>\n      <td>Scarborough</td>\n      <td>[Guildwood, Morningside, West Hill]</td>\n      <td>43.765815</td>\n      <td>-79.175193</td>\n    </tr>\n    <tr>\n      <th>3</th>\n      <td>M1G</td>\n      <td>Scarborough</td>\n      <td>[Woburn]</td>\n      <td>43.768369</td>\n      <td>-79.217590</td>\n    </tr>\n    <tr>\n      <th>4</th>\n      <td>M1H</td>\n      <td>Scarborough</td>\n      <td>[Cedarbrae]</td>\n      <td>43.769688</td>\n      <td>-79.239440</td>\n    </tr>\n    <tr>\n      <th>5</th>\n      <td>M1J</td>\n      <td>Scarborough</td>\n      <td>[Scarborough Village]</td>\n      <td>43.743125</td>\n      <td>-79.231750</td>\n    </tr>\n    <tr>\n      <th>6</th>\n      <td>M1K</td>\n      <td>Scarborough</td>\n      <td>[East Birchmount Park, Ionview, Kennedy Park]</td>\n      <td>43.726276</td>\n      <td>-79.263625</td>\n    </tr>\n    <tr>\n      <th>7</th>\n      <td>M1L</td>\n      <td>Scarborough</td>\n      <td>[Clairlea, Golden Mile, Oakridge]</td>\n      <td>43.713054</td>\n      <td>-79.285055</td>\n    </tr>\n    <tr>\n      <th>8</th>\n      <td>M1M</td>\n      <td>Scarborough</td>\n      <td>[Cliffcrest, Cliffside, Scarborough Village West]</td>\n      <td>43.724235</td>\n      <td>-79.227925</td>\n    </tr>\n    <tr>\n      <th>9</th>\n      <td>M1N</td>\n      <td>Scarborough</td>\n      <td>[Birch Cliff, Cliffside West]</td>\n      <td>43.696770</td>\n      <td>-79.259967</td>\n    </tr>\n    <tr>\n      <th>10</th>\n      <td>M1P</td>\n      <td>Scarborough</td>\n      <td>[Dorset Park, Scarborough Town Centre, Wexford...</td>\n      <td>43.759975</td>\n      <td>-79.268974</td>\n    </tr>\n    <tr>\n      <th>11</th>\n      <td>M1R</td>\n      <td>Scarborough</td>\n      <td>[Maryvale, Wexford]</td>\n      <td>43.750710</td>\n      <td>-79.300560</td>\n    </tr>\n  </tbody>\n</table>\n</div>"
     },
     "metadata": {},
     "output_type": "execute_result",
     "execution_count": 62
    }
   ],
   "source": [
    "df['Latitude'] = lat\n",
    "df['Longitude'] = lng\n",
    "df.head(12)"
   ],
   "metadata": {
    "collapsed": false,
    "pycharm": {
     "name": "#%%\n",
     "is_executing": false
    }
   }
  },
  {
   "cell_type": "markdown",
   "source": [
    "### Create a Map of Toronto with Neighborhoods Superimposed\n",
    "- use geocoder to find Toronto center"
   ],
   "metadata": {
    "collapsed": false,
    "pycharm": {
     "name": "#%% md\n"
    }
   }
  },
  {
   "cell_type": "code",
   "execution_count": 63,
   "outputs": [
    {
     "name": "stdout",
     "text": [
      "Toronto Coordinates: (43.648690000000045, -79.38543999999996)\n"
     ],
     "output_type": "stream"
    }
   ],
   "source": [
    "g = geocoder.arcgis('Toronto, ON')\n",
    "toronto_center = (g.json['lat'], g.json['lng'])\n",
    "print('Toronto Coordinates:', toronto_center)"
   ],
   "metadata": {
    "collapsed": false,
    "pycharm": {
     "name": "#%%\n",
     "is_executing": false
    }
   }
  },
  {
   "cell_type": "markdown",
   "source": [
    "- plot the map"
   ],
   "metadata": {
    "collapsed": false,
    "pycharm": {
     "name": "#%% md\n"
    }
   }
  },
  {
   "cell_type": "code",
   "execution_count": 64,
   "outputs": [
    {
     "data": {
      "text/plain": "<folium.folium.Map at 0x7fac6ba28160>",
      "text/html": "<div style=\"width:100%;\"><div style=\"position:relative;width:100%;height:0;padding-bottom:60%;\"><iframe src=\"data:text/html;charset=utf-8;base64,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\" style=\"position:absolute;width:100%;height:100%;left:0;top:0;border:none !important;\" allowfullscreen webkitallowfullscreen mozallowfullscreen></iframe></div></div>"
     },
     "metadata": {},
     "output_type": "execute_result",
     "execution_count": 64
    }
   ],
   "source": [
    "import folium\n",
    "toronto_map = folium.Map(location=toronto_center, zoom_start=10)\n",
    "for lat, lng, borough, neighborhood, postal_code in zip(df['Latitude'], df['Longitude'], df['Borough'], df['Neighborhood'], df['PostalCode']):\n",
    "    label = '{} {}, {}'.format(borough, postal_code, neighborhood)\n",
    "    folium.CircleMarker([lat, lng],\n",
    "                        radius=5,\n",
    "                        popup=label,\n",
    "                        color='blue',\n",
    "                        fill=True,\n",
    "                        fill_color='#3186cc',\n",
    "                        fill_opacity=0.7,\n",
    "                        parse_html=False).add_to(toronto_map)\n",
    "toronto_map"
   ],
   "metadata": {
    "collapsed": false,
    "pycharm": {
     "name": "#%%\n",
     "is_executing": false
    }
   }
  },
  {
   "cell_type": "markdown",
   "source": [
    "## Part III\n",
    "### Cluster the neighborhoods of Toronto\n",
    "The location data we will be using for clustering is based on latitude & longitude derived \n",
    "from postal codes. Neighborhoods that share postal codes will have identical location \n",
    "data, and therefore would naturally cluster together. To simplify the analysis, we will be \n",
    "using postal codes as a proxy for neighborhoods, or a set of 'identical' neighborhoods with \n",
    "respect to the location data. "
   ],
   "metadata": {
    "collapsed": false,
    "pycharm": {
     "name": "#%% md\n"
    }
   }
  },
  {
   "cell_type": "markdown",
   "source": [
    "- set up FourSquare credentials"
   ],
   "metadata": {
    "collapsed": false,
    "pycharm": {
     "name": "#%% md\n"
    }
   }
  },
  {
   "cell_type": "code",
   "execution_count": 65,
   "outputs": [
    {
     "name": "stdout",
     "text": [
      "Your credentials:\n",
      "CLIENT_ID: VUKHKNADL1KYMIMDT5L5LOWWUSSFZEJZZHGGD0Q1WUL3NZCP\n",
      "CLIENT_SECRET:1KRPTNYDVTS34LJ41IHKHJKOPVIW4FX501NLLH0NCYDXVAHA\n"
     ],
     "output_type": "stream"
    }
   ],
   "source": [
    "CLIENT_ID = 'VUKHKNADL1KYMIMDT5L5LOWWUSSFZEJZZHGGD0Q1WUL3NZCP' # your Foursquare ID\n",
    "CLIENT_SECRET = '1KRPTNYDVTS34LJ41IHKHJKOPVIW4FX501NLLH0NCYDXVAHA' # your Foursquare Secret\n",
    "VERSION = '20180605' # Foursquare API version\n",
    "LIMIT = 100\n",
    "print('Your credentials:')\n",
    "print('CLIENT_ID: ' + CLIENT_ID)\n",
    "print('CLIENT_SECRET:' + CLIENT_SECRET)"
   ],
   "metadata": {
    "collapsed": false,
    "pycharm": {
     "name": "#%%\n",
     "is_executing": false
    }
   }
  },
  {
   "cell_type": "markdown",
   "source": [
    "- define the get_category_type() function to extract the category of a venue"
   ],
   "metadata": {
    "collapsed": false,
    "pycharm": {
     "name": "#%% md\n"
    }
   }
  },
  {
   "cell_type": "code",
   "execution_count": 66,
   "outputs": [],
   "source": [
    "# function that extracts the category of the venue\n",
    "\n",
    "def get_category_type(row):\n",
    "    try:\n",
    "        categories_list = row['categories']\n",
    "    except:\n",
    "        categories_list = row['venue.categories']\n",
    "        \n",
    "    if len(categories_list) == 0:\n",
    "        return None\n",
    "    else:\n",
    "        return categories_list[0]['name']"
   ],
   "metadata": {
    "collapsed": false,
    "pycharm": {
     "name": "#%%\n",
     "is_executing": false
    }
   }
  },
  {
   "cell_type": "markdown",
   "source": [
    "- define the function that will build the dataframe containing all 'nearby' venues"
   ],
   "metadata": {
    "collapsed": false,
    "pycharm": {
     "name": "#%% md\n"
    }
   }
  },
  {
   "cell_type": "code",
   "execution_count": 67,
   "outputs": [],
   "source": [
    "# function takes series of names, latitudes, longitudes & radius, \n",
    "# then returns a dataframe of venues nearby to the specified locations     \n",
    "\n",
    "def get_nearby_venues(names, latitudes, longitudes, radius=500):\n",
    "    print('Gathering venues, please wait...')\n",
    "    venues_list=[]\n",
    "    for name, lat, lng in zip(names, latitudes, longitudes):\n",
    "        \n",
    "            \n",
    "        # create the API request URL\n",
    "        url = 'https://api.foursquare.com/v2/venues/explore?&client_id={}&client_secret={}&v={}&ll={},{}&radius={}&limit={}'.format(\n",
    "            CLIENT_ID, \n",
    "            CLIENT_SECRET, \n",
    "            VERSION, \n",
    "            lat, \n",
    "            lng, \n",
    "            radius, \n",
    "            LIMIT)\n",
    "            \n",
    "        # make the GET request\n",
    "        raw_response = requests.get(url).json()\n",
    "        if 'groups' in raw_response[\"response\"]:\n",
    "            results = raw_response['response']['groups'][0]['items']\n",
    "        else:\n",
    "            print(\"{} not found.\".format(name))\n",
    "            continue\n",
    "        # return only relevant information for each nearby venue\n",
    "        venues_list.append([(\n",
    "            name, \n",
    "            lat, \n",
    "            lng, \n",
    "            v['venue']['name'], \n",
    "            v['venue']['location']['lat'], \n",
    "            v['venue']['location']['lng'],  \n",
    "            v['venue']['categories'][0]['name']) for v in results])\n",
    "\n",
    "    nearby_venues = pd.DataFrame([item for venue_list in venues_list for item in venue_list])\n",
    "    nearby_venues.columns = ['Name', \n",
    "                  'Latitude', \n",
    "                  'Longitude', \n",
    "                  'Venue', \n",
    "                  'Venue Latitude', \n",
    "                  'Venue Longitude', \n",
    "                  'Venue Category']\n",
    "    print('Done.')\n",
    "    return nearby_venues\n"
   ],
   "metadata": {
    "collapsed": false,
    "pycharm": {
     "name": "#%%\n",
     "is_executing": false
    }
   }
  },
  {
   "cell_type": "markdown",
   "source": [
    "- build the dataframe for Toronto neighborhoods\n",
    "- display the dataframe's shape"
   ],
   "metadata": {
    "collapsed": false,
    "pycharm": {
     "name": "#%% md\n"
    }
   }
  },
  {
   "cell_type": "code",
   "execution_count": 68,
   "outputs": [
    {
     "name": "stdout",
     "text": [
      "Gathering venues, please wait...\n",
      "Done.\n",
      "2454 rows, 7 columns\n"
     ],
     "output_type": "stream"
    }
   ],
   "source": [
    "toronto_venues = get_nearby_venues(df['PostalCode'], df['Latitude'], df['Longitude'])\n",
    "toronto_venues.rename(columns={'Name': 'Postal Code'}, inplace=True)\n",
    "print('{} rows, {} columns'.format(toronto_venues.shape[0], toronto_venues.shape[1]))"
   ],
   "metadata": {
    "collapsed": false,
    "pycharm": {
     "name": "#%%\n",
     "is_executing": false
    }
   }
  },
  {
   "cell_type": "markdown",
   "source": [
    "- count of unique venue categories"
   ],
   "metadata": {
    "collapsed": false,
    "pycharm": {
     "name": "#%% md\n"
    }
   }
  },
  {
   "cell_type": "code",
   "source": [
    "print('There are {} uniques categories.'.format(len(toronto_venues['Venue Category'].unique())))"
   ],
   "metadata": {
    "collapsed": false,
    "pycharm": {
     "name": "#%%\n",
     "is_executing": false
    }
   },
   "execution_count": 69,
   "outputs": [
    {
     "name": "stdout",
     "text": [
      "There are 260 uniques categories.\n"
     ],
     "output_type": "stream"
    }
   ]
  },
  {
   "cell_type": "markdown",
   "source": [
    "- one hot encode the venue categories for each neighborhood\n",
    "- add postal code to the dataframe"
   ],
   "metadata": {
    "collapsed": false,
    "pycharm": {
     "name": "#%% md\n"
    }
   }
  },
  {
   "cell_type": "code",
   "source": [
    "# one hot encoding\n",
    "toronto_onehot = pd.get_dummies(toronto_venues[['Venue Category']], prefix=\"\", prefix_sep=\"\")\n",
    "\n",
    "# add Postal Code column back to dataframe\n",
    "toronto_onehot['Postal Code'] = toronto_venues['Postal Code'] \n",
    "\n",
    "# move neighborhood column to the first column\n",
    "fixed_columns = [toronto_onehot.columns[-1]] + list(toronto_onehot.columns[:-1])\n",
    "toronto_onehot = toronto_onehot[fixed_columns]"
   ],
   "metadata": {
    "collapsed": false,
    "pycharm": {
     "name": "#%%\n",
     "is_executing": false
    }
   },
   "execution_count": 70,
   "outputs": []
  },
  {
   "cell_type": "markdown",
   "source": [
    "- build a dataframe that groups the one hot encoding by neighborhood and average the occurrences"
   ],
   "metadata": {
    "collapsed": false,
    "pycharm": {
     "name": "#%% md\n"
    }
   }
  },
  {
   "cell_type": "code",
   "execution_count": 71,
   "outputs": [
    {
     "name": "stdout",
     "text": [
      "(99, 261)\n"
     ],
     "output_type": "stream"
    }
   ],
   "source": [
    "toronto_grouped = toronto_onehot.groupby('Postal Code').mean().reset_index()\n",
    "print(toronto_grouped.shape)"
   ],
   "metadata": {
    "collapsed": false,
    "pycharm": {
     "name": "#%%\n",
     "is_executing": false
    }
   }
  },
  {
   "cell_type": "markdown",
   "source": [
    "- display the top 10 venue categories in each postal code"
   ],
   "metadata": {
    "collapsed": false,
    "pycharm": {
     "name": "#%% md\n",
     "is_executing": false
    }
   }
  },
  {
   "cell_type": "code",
   "execution_count": 72,
   "outputs": [
    {
     "name": "stdout",
     "text": [
      "----M1B----\n",
      "                             venue  freq\n",
      "0                     Home Service   1.0\n",
      "1                Afghan Restaurant   0.0\n",
      "2              Monument / Landmark   0.0\n",
      "3                     Neighborhood   0.0\n",
      "4                      Music Venue   0.0\n",
      "5                      Music Store   0.0\n",
      "6                           Museum   0.0\n",
      "7                    Moving Target   0.0\n",
      "8                    Movie Theater   0.0\n",
      "9  Molecular Gastronomy Restaurant   0.0\n",
      "\n",
      "\n",
      "----M1C----\n",
      "                             venue  freq\n",
      "0                              Bar   1.0\n",
      "1                        Nightclub   0.0\n",
      "2                    Metro Station   0.0\n",
      "3               Mexican Restaurant   0.0\n",
      "4        Middle Eastern Restaurant   0.0\n",
      "5               Miscellaneous Shop   0.0\n",
      "6       Modern European Restaurant   0.0\n",
      "7  Molecular Gastronomy Restaurant   0.0\n",
      "8              Monument / Landmark   0.0\n",
      "9                    Movie Theater   0.0\n",
      "\n",
      "\n",
      "----M1E----\n",
      "                        venue  freq\n",
      "0  Construction & Landscaping  0.33\n",
      "1                        Park  0.33\n",
      "2        Gym / Fitness Center  0.33\n",
      "3                 Music Venue  0.00\n",
      "4                 Music Store  0.00\n",
      "5                      Museum  0.00\n",
      "6               Moving Target  0.00\n",
      "7               Movie Theater  0.00\n",
      "8         Monument / Landmark  0.00\n",
      "9     New American Restaurant  0.00\n",
      "\n",
      "\n",
      "----M1G----\n",
      "               venue  freq\n",
      "0        Coffee Shop   0.2\n",
      "1   Business Service   0.2\n",
      "2  Indian Restaurant   0.2\n",
      "3  Korean Restaurant   0.2\n",
      "4               Park   0.2\n",
      "5  Afghan Restaurant   0.0\n",
      "6      Moving Target   0.0\n",
      "7       Neighborhood   0.0\n",
      "8        Music Venue   0.0\n",
      "9        Music Store   0.0\n",
      "\n",
      "\n",
      "----M1H----\n",
      "                             venue  freq\n",
      "0                       Playground   1.0\n",
      "1         Mediterranean Restaurant   0.0\n",
      "2                    Metro Station   0.0\n",
      "3               Mexican Restaurant   0.0\n",
      "4        Middle Eastern Restaurant   0.0\n",
      "5               Miscellaneous Shop   0.0\n",
      "6       Modern European Restaurant   0.0\n",
      "7  Molecular Gastronomy Restaurant   0.0\n",
      "8              Monument / Landmark   0.0\n",
      "9                    Movie Theater   0.0\n",
      "\n",
      "\n",
      "----M1J----\n",
      "               venue  freq\n",
      "0      Train Station  0.25\n",
      "1      Grocery Store  0.25\n",
      "2         Restaurant  0.25\n",
      "3  Indian Restaurant  0.25\n",
      "4      Movie Theater  0.00\n",
      "5       Neighborhood  0.00\n",
      "6        Music Venue  0.00\n",
      "7        Music Store  0.00\n",
      "8             Museum  0.00\n",
      "9      Moving Target  0.00\n",
      "\n",
      "\n",
      "----M1K----\n",
      "                             venue  freq\n",
      "0                   Discount Store  0.29\n",
      "1                Convenience Store  0.14\n",
      "2                 Department Store  0.14\n",
      "3                      Coffee Shop  0.14\n",
      "4                       Hobby Shop  0.14\n",
      "5               Chinese Restaurant  0.14\n",
      "6              Monument / Landmark  0.00\n",
      "7  Molecular Gastronomy Restaurant  0.00\n",
      "8                    Movie Theater  0.00\n",
      "9                     Noodle House  0.00\n",
      "\n",
      "\n",
      "----M1L----\n",
      "           venue  freq\n",
      "0   Intersection  0.22\n",
      "1       Bus Line  0.22\n",
      "2         Bakery  0.22\n",
      "3    Bus Station  0.11\n",
      "4    Coffee Shop  0.11\n",
      "5   Soccer Field  0.11\n",
      "6  Moving Target  0.00\n",
      "7   Neighborhood  0.00\n",
      "8    Music Venue  0.00\n",
      "9    Music Store  0.00\n",
      "\n",
      "\n",
      "----M1M----\n",
      "               venue  freq\n",
      "0     Sandwich Place  0.17\n",
      "1           Pharmacy  0.17\n",
      "2               Bank  0.17\n",
      "3        Coffee Shop  0.17\n",
      "4             Bistro  0.17\n",
      "5     Discount Store  0.17\n",
      "6  Afghan Restaurant  0.00\n",
      "7             Museum  0.00\n",
      "8       Neighborhood  0.00\n",
      "9        Music Venue  0.00\n",
      "\n",
      "\n",
      "----M1N----\n",
      "                   venue  freq\n",
      "0                   Park  0.17\n",
      "1  General Entertainment  0.17\n",
      "2                    Gym  0.17\n",
      "3               Gym Pool  0.17\n",
      "4        College Stadium  0.17\n",
      "5           Skating Rink  0.17\n",
      "6          Movie Theater  0.00\n",
      "7            Music Store  0.00\n",
      "8                 Museum  0.00\n",
      "9          Moving Target  0.00\n",
      "\n",
      "\n",
      "----M1P----\n",
      "                     venue  freq\n",
      "0                Gift Shop  0.33\n",
      "1                   Bakery  0.33\n",
      "2            Moving Target  0.33\n",
      "3        Afghan Restaurant  0.00\n",
      "4            Movie Theater  0.00\n",
      "5              Music Venue  0.00\n",
      "6              Music Store  0.00\n",
      "7                   Museum  0.00\n",
      "8      Monument / Landmark  0.00\n",
      "9  New American Restaurant  0.00\n",
      "\n",
      "\n",
      "----M1R----\n",
      "                 venue  freq\n",
      "0    Convenience Store   0.5\n",
      "1          Auto Garage   0.5\n",
      "2         Neighborhood   0.0\n",
      "3          Music Venue   0.0\n",
      "4          Music Store   0.0\n",
      "5               Museum   0.0\n",
      "6        Moving Target   0.0\n",
      "7        Movie Theater   0.0\n",
      "8  Monument / Landmark   0.0\n",
      "9            Nightclub   0.0\n",
      "\n",
      "\n",
      "----M1S----\n",
      "                   venue  freq\n",
      "0     Chinese Restaurant  0.14\n",
      "1          Shopping Mall  0.14\n",
      "2                 Bakery  0.07\n",
      "3   Hong Kong Restaurant  0.07\n",
      "4       Sushi Restaurant  0.07\n",
      "5  Vietnamese Restaurant  0.07\n",
      "6                   Pool  0.07\n",
      "7            Supermarket  0.07\n",
      "8         Discount Store  0.07\n",
      "9                   Park  0.07\n",
      "\n",
      "\n",
      "----M1T----\n",
      "                 venue  freq\n",
      "0          Pizza Place  0.15\n",
      "1             Pharmacy  0.15\n",
      "2          Coffee Shop  0.15\n",
      "3    Convenience Store  0.08\n",
      "4      Thai Restaurant  0.08\n",
      "5   Chinese Restaurant  0.08\n",
      "6        Shopping Mall  0.08\n",
      "7             Bus Stop  0.08\n",
      "8  Fried Chicken Joint  0.08\n",
      "9           Hobby Shop  0.08\n",
      "\n",
      "\n",
      "----M1V----\n",
      "                             venue  freq\n",
      "0                         Pharmacy   1.0\n",
      "1                Afghan Restaurant   0.0\n",
      "2          New American Restaurant   0.0\n",
      "3                    Metro Station   0.0\n",
      "4               Mexican Restaurant   0.0\n",
      "5        Middle Eastern Restaurant   0.0\n",
      "6               Miscellaneous Shop   0.0\n",
      "7       Modern European Restaurant   0.0\n",
      "8  Molecular Gastronomy Restaurant   0.0\n",
      "9              Monument / Landmark   0.0\n",
      "\n",
      "\n",
      "----M1W----\n",
      "                    venue  freq\n",
      "0    Fast Food Restaurant  0.17\n",
      "1      Chinese Restaurant  0.17\n",
      "2             Pizza Place  0.08\n",
      "3    Other Great Outdoors  0.08\n",
      "4  Furniture / Home Store  0.08\n",
      "5          Sandwich Place  0.08\n",
      "6            Burger Joint  0.08\n",
      "7             Coffee Shop  0.08\n",
      "8           Grocery Store  0.08\n",
      "9                Pharmacy  0.08\n",
      "\n",
      "\n",
      "----M2H----\n",
      "                                      venue  freq\n",
      "0                                   Dog Run   0.5\n",
      "1  Residential Building (Apartment / Condo)   0.5\n",
      "2                         Afghan Restaurant   0.0\n",
      "3                             Moving Target   0.0\n",
      "4                              Neighborhood   0.0\n",
      "5                               Music Venue   0.0\n",
      "6                               Music Store   0.0\n",
      "7                                    Museum   0.0\n",
      "8                             Movie Theater   0.0\n",
      "9                                 Nightclub   0.0\n",
      "\n",
      "\n",
      "----M2J----\n",
      "                  venue  freq\n",
      "0        Clothing Store  0.14\n",
      "1  Fast Food Restaurant  0.08\n",
      "2         Women's Store  0.06\n",
      "3           Coffee Shop  0.06\n",
      "4   Japanese Restaurant  0.04\n",
      "5      Toy / Game Store  0.04\n",
      "6            Food Court  0.04\n",
      "7        Cosmetics Shop  0.04\n",
      "8          Optical Shop  0.02\n",
      "9         Movie Theater  0.02\n",
      "\n",
      "\n",
      "----M2K----\n",
      "                             venue  freq\n",
      "0       Construction & Landscaping  0.25\n",
      "1                            Trail  0.25\n",
      "2                          Dog Run  0.25\n",
      "3                             Park  0.25\n",
      "4               Miscellaneous Shop  0.00\n",
      "5       Modern European Restaurant  0.00\n",
      "6  Molecular Gastronomy Restaurant  0.00\n",
      "7              Monument / Landmark  0.00\n",
      "8                    Movie Theater  0.00\n",
      "9                        Nightclub  0.00\n",
      "\n",
      "\n",
      "----M2M----\n",
      "                       venue  freq\n",
      "0          Korean Restaurant  0.12\n",
      "1                       Café  0.12\n",
      "2  Middle Eastern Restaurant  0.08\n",
      "3                 Hookah Bar  0.04\n",
      "4               Dessert Shop  0.04\n",
      "5                       Park  0.04\n",
      "6           Ramen Restaurant  0.04\n",
      "7                Coffee Shop  0.04\n",
      "8       Fast Food Restaurant  0.04\n",
      "9             Sandwich Place  0.04\n",
      "\n",
      "\n",
      "----M2N----\n",
      "                       venue  freq\n",
      "0                Coffee Shop  0.10\n",
      "1                       Café  0.07\n",
      "2           Ramen Restaurant  0.07\n",
      "3       Fast Food Restaurant  0.07\n",
      "4          Electronics Store  0.03\n",
      "5              Movie Theater  0.03\n",
      "6        Fried Chicken Joint  0.03\n",
      "7  Middle Eastern Restaurant  0.03\n",
      "8                Pizza Place  0.03\n",
      "9              Shopping Mall  0.03\n",
      "\n",
      "\n",
      "----M2P----\n",
      "                       venue  freq\n",
      "0          Convenience Store  0.25\n",
      "1                       Park  0.25\n",
      "2                       Bank  0.25\n",
      "3                  Speakeasy  0.25\n",
      "4             Pilates Studio  0.00\n",
      "5                       Pier  0.00\n",
      "6              Metro Station  0.00\n",
      "7         Mexican Restaurant  0.00\n",
      "8  Middle Eastern Restaurant  0.00\n",
      "9         Miscellaneous Shop  0.00\n",
      "\n",
      "\n",
      "----M2R----\n",
      "                         venue  freq\n",
      "0            Convenience Store  0.12\n",
      "1                 Intersection  0.12\n",
      "2  Eastern European Restaurant  0.12\n",
      "3                       Bakery  0.12\n",
      "4                         Park  0.12\n",
      "5                   Baby Store  0.12\n",
      "6                  Coffee Shop  0.12\n",
      "7                     Bus Line  0.12\n",
      "8                     Pharmacy  0.00\n",
      "9           Miscellaneous Shop  0.00\n",
      "\n",
      "\n",
      "----M3A----\n",
      "                             venue  freq\n",
      "0                Food & Drink Shop   0.5\n",
      "1                             Park   0.5\n",
      "2                Afghan Restaurant   0.0\n",
      "3          New American Restaurant   0.0\n",
      "4               Mexican Restaurant   0.0\n",
      "5        Middle Eastern Restaurant   0.0\n",
      "6               Miscellaneous Shop   0.0\n",
      "7       Modern European Restaurant   0.0\n",
      "8  Molecular Gastronomy Restaurant   0.0\n",
      "9              Monument / Landmark   0.0\n",
      "\n",
      "\n",
      "----M3B----\n",
      "                             venue  freq\n",
      "0                     Burger Joint   0.2\n",
      "1                     Soccer Field   0.2\n",
      "2                      Coffee Shop   0.2\n",
      "3                      Gas Station   0.2\n",
      "4                             Park   0.2\n",
      "5       Modern European Restaurant   0.0\n",
      "6               Miscellaneous Shop   0.0\n",
      "7  Molecular Gastronomy Restaurant   0.0\n",
      "8              Monument / Landmark   0.0\n",
      "9          New American Restaurant   0.0\n",
      "\n",
      "\n",
      "----M3C----\n",
      "               venue  freq\n",
      "0        Coffee Shop  0.14\n",
      "1      Grocery Store  0.14\n",
      "2    Bubble Tea Shop  0.14\n",
      "3                Gym  0.14\n",
      "4       Intersection  0.14\n",
      "5         Beer Store  0.14\n",
      "6        Supermarket  0.14\n",
      "7  Afghan Restaurant  0.00\n",
      "8             Museum  0.00\n",
      "9       Neighborhood  0.00\n",
      "\n",
      "\n",
      "----M3J----\n",
      "                    venue  freq\n",
      "0     Japanese Restaurant  0.09\n",
      "1          Massage Studio  0.09\n",
      "2    Fast Food Restaurant  0.09\n",
      "3      Miscellaneous Shop  0.09\n",
      "4             Coffee Shop  0.09\n",
      "5                     Bar  0.09\n",
      "6                    Bank  0.09\n",
      "7    Caribbean Restaurant  0.09\n",
      "8      Falafel Restaurant  0.09\n",
      "9  Furniture / Home Store  0.09\n",
      "\n",
      "\n",
      "----M3K----\n",
      "                 venue  freq\n",
      "0              Airport  0.25\n",
      "1                 Park  0.25\n",
      "2           Food Court  0.25\n",
      "3          Coffee Shop  0.25\n",
      "4          Music Venue  0.00\n",
      "5          Music Store  0.00\n",
      "6               Museum  0.00\n",
      "7        Moving Target  0.00\n",
      "8        Movie Theater  0.00\n",
      "9  Monument / Landmark  0.00\n",
      "\n",
      "\n",
      "----M3L----\n",
      "                        venue  freq\n",
      "0                 Coffee Shop  0.08\n",
      "1                 Pizza Place  0.08\n",
      "2               Grocery Store  0.08\n",
      "3              Clothing Store  0.08\n",
      "4       Vietnamese Restaurant  0.08\n",
      "5                  Beer Store  0.08\n",
      "6           Convenience Store  0.08\n",
      "7  Construction & Landscaping  0.08\n",
      "8                Hockey Arena  0.08\n",
      "9                         Spa  0.08\n",
      "\n",
      "\n",
      "----M3M----\n",
      "                             venue  freq\n",
      "0                 Business Service   1.0\n",
      "1                Afghan Restaurant   0.0\n",
      "2                      Men's Store   0.0\n",
      "3               Mexican Restaurant   0.0\n",
      "4        Middle Eastern Restaurant   0.0\n",
      "5               Miscellaneous Shop   0.0\n",
      "6       Modern European Restaurant   0.0\n",
      "7  Molecular Gastronomy Restaurant   0.0\n",
      "8              Monument / Landmark   0.0\n",
      "9                    Movie Theater   0.0\n",
      "\n",
      "\n",
      "----M3N----\n",
      "                   venue  freq\n",
      "0            Pizza Place  0.09\n",
      "1  Vietnamese Restaurant  0.09\n",
      "2         Discount Store  0.09\n",
      "3   Fast Food Restaurant  0.09\n",
      "4          Grocery Store  0.09\n",
      "5     Falafel Restaurant  0.05\n",
      "6    Fried Chicken Joint  0.05\n",
      "7   Caribbean Restaurant  0.05\n",
      "8          Shopping Mall  0.05\n",
      "9            Gas Station  0.05\n",
      "\n",
      "\n",
      "----M4A----\n",
      "                     venue  freq\n",
      "0                     Park   0.5\n",
      "1            Grocery Store   0.5\n",
      "2        Afghan Restaurant   0.0\n",
      "3              Music Venue   0.0\n",
      "4              Music Store   0.0\n",
      "5                   Museum   0.0\n",
      "6            Moving Target   0.0\n",
      "7            Movie Theater   0.0\n",
      "8      Monument / Landmark   0.0\n",
      "9  New American Restaurant   0.0\n",
      "\n",
      "\n",
      "----M4B----\n",
      "                  venue  freq\n",
      "0           Pizza Place  0.13\n",
      "1  Fast Food Restaurant  0.13\n",
      "2    Rock Climbing Spot  0.07\n",
      "3                  Café  0.07\n",
      "4        Breakfast Spot  0.07\n",
      "5             Gastropub  0.07\n",
      "6  Gym / Fitness Center  0.07\n",
      "7                  Bank  0.07\n",
      "8                   Spa  0.07\n",
      "9             Pet Store  0.07\n",
      "\n",
      "\n",
      "----M4C----\n",
      "                  venue  freq\n",
      "0              Bus Line  0.11\n",
      "1         Grocery Store  0.11\n",
      "2         Metro Station  0.06\n",
      "3                   Bar  0.06\n",
      "4          Dance Studio  0.06\n",
      "5                  Café  0.06\n",
      "6           Gas Station  0.06\n",
      "7        Breakfast Spot  0.06\n",
      "8                Market  0.06\n",
      "9  Fast Food Restaurant  0.06\n",
      "\n",
      "\n",
      "----M4E----\n",
      "                        venue  freq\n",
      "0           Health Food Store   0.2\n",
      "1            Asian Restaurant   0.2\n",
      "2                       Trail   0.2\n",
      "3                         Pub   0.2\n",
      "4                Neighborhood   0.2\n",
      "5          Miscellaneous Shop   0.0\n",
      "6   Middle Eastern Restaurant   0.0\n",
      "7  Modern European Restaurant   0.0\n",
      "8          Mexican Restaurant   0.0\n",
      "9     New American Restaurant   0.0\n",
      "\n",
      "\n",
      "----M4G----\n",
      "                    venue  freq\n",
      "0             Coffee Shop  0.11\n",
      "1     Sporting Goods Shop  0.08\n",
      "2              Sports Bar  0.06\n",
      "3            Burger Joint  0.06\n",
      "4  Furniture / Home Store  0.06\n",
      "5           Grocery Store  0.03\n",
      "6            Liquor Store  0.03\n",
      "7           Smoothie Shop  0.03\n",
      "8      Mexican Restaurant  0.03\n",
      "9               Pet Store  0.03\n",
      "\n",
      "\n",
      "----M4H----\n",
      "                             venue  freq\n",
      "0                      Yoga Studio  0.12\n",
      "1                Indian Restaurant  0.12\n",
      "2                      Coffee Shop  0.12\n",
      "3                      Gas Station  0.12\n",
      "4                             Park  0.12\n",
      "5                   Sandwich Place  0.12\n",
      "6                           Bridge  0.12\n",
      "7              Housing Development  0.12\n",
      "8  Molecular Gastronomy Restaurant  0.00\n",
      "9              Monument / Landmark  0.00\n",
      "\n",
      "\n",
      "----M4J----\n",
      "                     venue  freq\n",
      "0                     Park  0.25\n",
      "1                      Bar  0.25\n",
      "2           Farmers Market  0.25\n",
      "3       Italian Restaurant  0.25\n",
      "4  New American Restaurant  0.00\n",
      "5              Music Venue  0.00\n",
      "6              Music Store  0.00\n",
      "7                   Museum  0.00\n",
      "8            Moving Target  0.00\n",
      "9        Afghan Restaurant  0.00\n",
      "\n",
      "\n",
      "----M4K----\n",
      "               venue  freq\n",
      "0               Park  0.25\n",
      "1           Bus Line  0.25\n",
      "2      Grocery Store  0.25\n",
      "3     Discount Store  0.25\n",
      "4      Moving Target  0.00\n",
      "5       Neighborhood  0.00\n",
      "6        Music Venue  0.00\n",
      "7        Music Store  0.00\n",
      "8             Museum  0.00\n",
      "9  Afghan Restaurant  0.00\n",
      "\n",
      "\n",
      "----M4L----\n",
      "                     venue  freq\n",
      "0                     Park  0.12\n",
      "1  Fruit & Vegetable Store  0.06\n",
      "2       Italian Restaurant  0.06\n",
      "3           Sandwich Place  0.06\n",
      "4             Liquor Store  0.06\n",
      "5        Fish & Chips Shop  0.06\n",
      "6                      Gym  0.06\n",
      "7               Steakhouse  0.06\n",
      "8            Movie Theater  0.06\n",
      "9     Fast Food Restaurant  0.06\n",
      "\n",
      "\n",
      "----M4M----\n",
      "                venue  freq\n",
      "0               Diner  0.07\n",
      "1         Pizza Place  0.05\n",
      "2             Brewery  0.05\n",
      "3  Italian Restaurant  0.05\n",
      "4           Gastropub  0.04\n",
      "5      Sandwich Place  0.04\n",
      "6              Bakery  0.04\n",
      "7       Grocery Store  0.04\n",
      "8                Café  0.04\n",
      "9    Sushi Restaurant  0.04\n",
      "\n",
      "\n",
      "----M4N----\n",
      "                             venue  freq\n",
      "0                         Bus Line  0.33\n",
      "1             Gym / Fitness Center  0.33\n",
      "2                      Swim School  0.33\n",
      "3                Afghan Restaurant  0.00\n",
      "4              Monument / Landmark  0.00\n",
      "5                      Music Store  0.00\n",
      "6                           Museum  0.00\n",
      "7                    Moving Target  0.00\n",
      "8                    Movie Theater  0.00\n",
      "9  Molecular Gastronomy Restaurant  0.00\n",
      "\n",
      "\n",
      "----M4P----\n",
      "                           venue  freq\n",
      "0              Convenience Store  0.14\n",
      "1                 Breakfast Spot  0.14\n",
      "2                            Gym  0.14\n",
      "3              Food & Drink Shop  0.14\n",
      "4                           Park  0.14\n",
      "5                 Clothing Store  0.14\n",
      "6                          Hotel  0.14\n",
      "7  Vegetarian / Vegan Restaurant  0.00\n",
      "8                   Neighborhood  0.00\n",
      "9                  Metro Station  0.00\n",
      "\n",
      "\n",
      "----M4R----\n",
      "                             venue  freq\n",
      "0                       Playground  0.25\n",
      "1                           Garden  0.25\n",
      "2                         Gym Pool  0.25\n",
      "3                             Park  0.25\n",
      "4        Middle Eastern Restaurant  0.00\n",
      "5               Miscellaneous Shop  0.00\n",
      "6       Modern European Restaurant  0.00\n",
      "7               Mexican Restaurant  0.00\n",
      "8                     Neighborhood  0.00\n",
      "9  Molecular Gastronomy Restaurant  0.00\n",
      "\n",
      "\n",
      "----M4S----\n",
      "                  venue  freq\n",
      "0          Dessert Shop  0.15\n",
      "1           Pizza Place  0.07\n",
      "2           Coffee Shop  0.07\n",
      "3        Sandwich Place  0.07\n",
      "4                  Café  0.07\n",
      "5    Italian Restaurant  0.07\n",
      "6                   Gym  0.04\n",
      "7  Fast Food Restaurant  0.04\n",
      "8      Sushi Restaurant  0.04\n",
      "9            Restaurant  0.04\n",
      "\n",
      "\n",
      "----M4T----\n",
      "                        venue  freq\n",
      "0                  Playground   0.2\n",
      "1                         Gym   0.2\n",
      "2                  Restaurant   0.2\n",
      "3                Tennis Court   0.2\n",
      "4           Convenience Store   0.2\n",
      "5                 IT Services   0.0\n",
      "6                Noodle House   0.0\n",
      "7   Middle Eastern Restaurant   0.0\n",
      "8          Miscellaneous Shop   0.0\n",
      "9  Modern European Restaurant   0.0\n",
      "\n",
      "\n",
      "----M4V----\n",
      "                     venue  freq\n",
      "0              Coffee Shop  0.33\n",
      "1       Light Rail Station  0.33\n",
      "2              Supermarket  0.17\n",
      "3             Liquor Store  0.17\n",
      "4              Music Venue  0.00\n",
      "5              Music Store  0.00\n",
      "6                   Museum  0.00\n",
      "7            Moving Target  0.00\n",
      "8        Afghan Restaurant  0.00\n",
      "9  New American Restaurant  0.00\n",
      "\n",
      "\n",
      "----M4W----\n",
      "                             venue  freq\n",
      "0                       Playground  0.25\n",
      "1                      Candy Store  0.25\n",
      "2                    Grocery Store  0.25\n",
      "3                             Park  0.25\n",
      "4        Middle Eastern Restaurant  0.00\n",
      "5               Miscellaneous Shop  0.00\n",
      "6       Modern European Restaurant  0.00\n",
      "7  Molecular Gastronomy Restaurant  0.00\n",
      "8              Monument / Landmark  0.00\n",
      "9          New American Restaurant  0.00\n",
      "\n",
      "\n",
      "----M4X----\n",
      "                venue  freq\n",
      "0         Pizza Place  0.07\n",
      "1                Café  0.07\n",
      "2         Coffee Shop  0.07\n",
      "3  Italian Restaurant  0.05\n",
      "4              Bakery  0.05\n",
      "5                Park  0.05\n",
      "6          Restaurant  0.05\n",
      "7           Pet Store  0.02\n",
      "8          Playground  0.02\n",
      "9      Breakfast Spot  0.02\n",
      "\n",
      "\n",
      "----M4Y----\n",
      "                 venue  freq\n",
      "0          Coffee Shop  0.11\n",
      "1  Japanese Restaurant  0.06\n",
      "2           Restaurant  0.05\n",
      "3              Gay Bar  0.05\n",
      "4         Dance Studio  0.04\n",
      "5     Sushi Restaurant  0.04\n",
      "6            Gastropub  0.02\n",
      "7          Men's Store  0.02\n",
      "8                Hotel  0.02\n",
      "9                  Pub  0.02\n",
      "\n",
      "\n",
      "----M5A----\n",
      "            venue  freq\n",
      "0     Coffee Shop  0.14\n",
      "1          Bakery  0.07\n",
      "2         Theater  0.05\n",
      "3   Boat or Ferry  0.05\n",
      "4    Tech Startup  0.02\n",
      "5  Chocolate Shop  0.02\n",
      "6             Spa  0.02\n",
      "7   Historic Site  0.02\n",
      "8  Breakfast Spot  0.02\n",
      "9         Brewery  0.02\n",
      "\n",
      "\n",
      "----M5B----\n",
      "                       venue  freq\n",
      "0                Coffee Shop  0.10\n",
      "1             Clothing Store  0.06\n",
      "2             Cosmetics Shop  0.04\n",
      "3                       Café  0.03\n",
      "4  Middle Eastern Restaurant  0.03\n",
      "5         Italian Restaurant  0.02\n",
      "6                    Theater  0.02\n",
      "7        Sporting Goods Shop  0.02\n",
      "8                 Restaurant  0.02\n",
      "9        Japanese Restaurant  0.02\n",
      "\n",
      "\n",
      "----M5C----\n",
      "                venue  freq\n",
      "0         Coffee Shop  0.06\n",
      "1                Café  0.06\n",
      "2          Restaurant  0.05\n",
      "3              Bakery  0.04\n",
      "4               Hotel  0.04\n",
      "5      Clothing Store  0.04\n",
      "6  Seafood Restaurant  0.04\n",
      "7      Breakfast Spot  0.03\n",
      "8            Beer Bar  0.03\n",
      "9      Cosmetics Shop  0.03\n",
      "\n",
      "\n",
      "----M5E----\n",
      "                venue  freq\n",
      "0         Coffee Shop  0.08\n",
      "1          Restaurant  0.05\n",
      "2        Cocktail Bar  0.05\n",
      "3      Farmers Market  0.03\n",
      "4          Steakhouse  0.03\n",
      "5  Seafood Restaurant  0.03\n",
      "6              Bakery  0.03\n",
      "7            Beer Bar  0.03\n",
      "8         Cheese Shop  0.03\n",
      "9              Lounge  0.03\n",
      "\n",
      "\n",
      "----M5G----\n",
      "                       venue  freq\n",
      "0                Coffee Shop  0.11\n",
      "1             Clothing Store  0.06\n",
      "2             Cosmetics Shop  0.03\n",
      "3                      Plaza  0.03\n",
      "4  Middle Eastern Restaurant  0.02\n",
      "5                       Café  0.02\n",
      "6                 Restaurant  0.02\n",
      "7           Sushi Restaurant  0.02\n",
      "8            Bubble Tea Shop  0.02\n",
      "9        Sporting Goods Shop  0.02\n",
      "\n",
      "\n",
      "----M5H----\n",
      "                 venue  freq\n",
      "0                 Café  0.06\n",
      "1          Coffee Shop  0.06\n",
      "2           Steakhouse  0.04\n",
      "3                Hotel  0.04\n",
      "4  American Restaurant  0.03\n",
      "5  Japanese Restaurant  0.03\n",
      "6            Gastropub  0.03\n",
      "7     Asian Restaurant  0.03\n",
      "8           Restaurant  0.03\n",
      "9                  Gym  0.03\n",
      "\n",
      "\n",
      "----M5J----\n",
      "                 venue  freq\n",
      "0                 Park  0.33\n",
      "1      Harbor / Marina  0.33\n",
      "2                 Pier  0.33\n",
      "3          Music Venue  0.00\n",
      "4          Music Store  0.00\n",
      "5               Museum  0.00\n",
      "6        Moving Target  0.00\n",
      "7        Movie Theater  0.00\n",
      "8  Monument / Landmark  0.00\n",
      "9    Afghan Restaurant  0.00\n",
      "\n",
      "\n",
      "----M5K----\n",
      "                 venue  freq\n",
      "0          Coffee Shop  0.12\n",
      "1                 Café  0.08\n",
      "2                Hotel  0.05\n",
      "3           Restaurant  0.05\n",
      "4   Italian Restaurant  0.04\n",
      "5               Bakery  0.04\n",
      "6                  Bar  0.03\n",
      "7  American Restaurant  0.03\n",
      "8   Seafood Restaurant  0.03\n",
      "9        Deli / Bodega  0.03\n",
      "\n",
      "\n",
      "----M5L----\n",
      "                 venue  freq\n",
      "0          Coffee Shop  0.12\n",
      "1                 Café  0.06\n",
      "2           Restaurant  0.05\n",
      "3                Hotel  0.05\n",
      "4  Japanese Restaurant  0.04\n",
      "5   Italian Restaurant  0.04\n",
      "6             Beer Bar  0.03\n",
      "7                  Gym  0.03\n",
      "8        Deli / Bodega  0.03\n",
      "9            Gastropub  0.03\n",
      "\n",
      "\n",
      "----M5M----\n",
      "                  venue  freq\n",
      "0    Italian Restaurant  0.15\n",
      "1           Coffee Shop  0.10\n",
      "2      Greek Restaurant  0.05\n",
      "3       Thai Restaurant  0.05\n",
      "4                  Café  0.05\n",
      "5           Sports Club  0.05\n",
      "6  Fast Food Restaurant  0.05\n",
      "7        Sandwich Place  0.05\n",
      "8          Liquor Store  0.05\n",
      "9      Sushi Restaurant  0.05\n",
      "\n",
      "\n",
      "----M5N----\n",
      "                             venue  freq\n",
      "0                      IT Services   1.0\n",
      "1                Afghan Restaurant   0.0\n",
      "2              Monument / Landmark   0.0\n",
      "3                     Neighborhood   0.0\n",
      "4                      Music Venue   0.0\n",
      "5                      Music Store   0.0\n",
      "6                           Museum   0.0\n",
      "7                    Moving Target   0.0\n",
      "8                    Movie Theater   0.0\n",
      "9  Molecular Gastronomy Restaurant   0.0\n",
      "\n",
      "\n",
      "----M5P----\n",
      "                             venue  freq\n",
      "0                     Home Service   0.5\n",
      "1                             Park   0.5\n",
      "2                Afghan Restaurant   0.0\n",
      "3              Monument / Landmark   0.0\n",
      "4                      Music Venue   0.0\n",
      "5                      Music Store   0.0\n",
      "6                           Museum   0.0\n",
      "7                    Moving Target   0.0\n",
      "8                    Movie Theater   0.0\n",
      "9  Molecular Gastronomy Restaurant   0.0\n",
      "\n",
      "\n",
      "----M5R----\n",
      "                        venue  freq\n",
      "0              Sandwich Place  0.12\n",
      "1                        Café  0.08\n",
      "2              Cosmetics Shop  0.04\n",
      "3               Historic Site  0.04\n",
      "4                    Pharmacy  0.04\n",
      "5                         Pub  0.04\n",
      "6                  Restaurant  0.04\n",
      "7                 Coffee Shop  0.04\n",
      "8  Modern European Restaurant  0.04\n",
      "9           French Restaurant  0.04\n",
      "\n",
      "\n",
      "----M5S----\n",
      "                 venue  freq\n",
      "0                 Café  0.10\n",
      "1               Bakery  0.06\n",
      "2           Restaurant  0.06\n",
      "3          Coffee Shop  0.04\n",
      "4                  Gym  0.04\n",
      "5            Bookstore  0.04\n",
      "6                  Bar  0.04\n",
      "7   Italian Restaurant  0.04\n",
      "8  Japanese Restaurant  0.04\n",
      "9       Ice Cream Shop  0.02\n",
      "\n",
      "\n",
      "----M5T----\n",
      "                           venue  freq\n",
      "0                           Café  0.08\n",
      "1             Chinese Restaurant  0.06\n",
      "2            Dumpling Restaurant  0.05\n",
      "3          Vietnamese Restaurant  0.05\n",
      "4  Vegetarian / Vegan Restaurant  0.05\n",
      "5             Mexican Restaurant  0.04\n",
      "6                    Coffee Shop  0.04\n",
      "7                            Bar  0.04\n",
      "8           Caribbean Restaurant  0.03\n",
      "9                         Bakery  0.03\n",
      "\n",
      "\n",
      "----M5V----\n",
      "                  venue  freq\n",
      "0           Coffee Shop  0.10\n",
      "1    Italian Restaurant  0.07\n",
      "2  Gym / Fitness Center  0.06\n",
      "3                  Café  0.04\n",
      "4                   Bar  0.04\n",
      "5        Sandwich Place  0.03\n",
      "6                Bakery  0.03\n",
      "7            Restaurant  0.03\n",
      "8                   Pub  0.03\n",
      "9                  Park  0.03\n",
      "\n",
      "\n",
      "----M5W----\n",
      "              venue  freq\n",
      "0       Coffee Shop  0.09\n",
      "1              Café  0.04\n",
      "2        Steakhouse  0.04\n",
      "3               Bar  0.04\n",
      "4             Hotel  0.04\n",
      "5               Pub  0.03\n",
      "6        Restaurant  0.03\n",
      "7       Pizza Place  0.03\n",
      "8               Gym  0.03\n",
      "9  Sushi Restaurant  0.03\n",
      "\n",
      "\n",
      "----M5X----\n",
      "                 venue  freq\n",
      "0          Coffee Shop  0.14\n",
      "1                 Café  0.07\n",
      "2                Hotel  0.06\n",
      "3  American Restaurant  0.04\n",
      "4           Restaurant  0.04\n",
      "5        Deli / Bodega  0.03\n",
      "6                  Bar  0.03\n",
      "7               Bakery  0.03\n",
      "8            Gastropub  0.03\n",
      "9                  Gym  0.03\n",
      "\n",
      "\n",
      "----M6A----\n",
      "                    venue  freq\n",
      "0          Clothing Store  0.21\n",
      "1        Toy / Game Store  0.04\n",
      "2     American Restaurant  0.04\n",
      "3                Pharmacy  0.04\n",
      "4  Furniture / Home Store  0.04\n",
      "5             Coffee Shop  0.04\n",
      "6          Cosmetics Shop  0.04\n",
      "7             Men's Store  0.04\n",
      "8              Food Court  0.04\n",
      "9            Burger Joint  0.02\n",
      "\n",
      "\n",
      "----M6B----\n",
      "                       venue  freq\n",
      "0                Pizza Place  0.23\n",
      "1       Fast Food Restaurant  0.15\n",
      "2                        Spa  0.08\n",
      "3                Gas Station  0.08\n",
      "4              Grocery Store  0.08\n",
      "5           Sushi Restaurant  0.08\n",
      "6        Japanese Restaurant  0.08\n",
      "7  Latin American Restaurant  0.08\n",
      "8           Asian Restaurant  0.08\n",
      "9   Mediterranean Restaurant  0.08\n",
      "\n",
      "\n",
      "----M6C----\n",
      "                             venue  freq\n",
      "0                    Grocery Store  0.17\n",
      "1                     Hockey Arena  0.17\n",
      "2                      Coffee Shop  0.17\n",
      "3                            Field  0.17\n",
      "4                            Trail  0.17\n",
      "5                             Park  0.17\n",
      "6       Modern European Restaurant  0.00\n",
      "7  Molecular Gastronomy Restaurant  0.00\n",
      "8              Monument / Landmark  0.00\n",
      "9          New American Restaurant  0.00\n",
      "\n",
      "\n",
      "----M6E----\n",
      "                  venue  freq\n",
      "0                  Park   0.2\n",
      "1         Women's Store   0.1\n",
      "2   Sporting Goods Shop   0.1\n",
      "3    Mexican Restaurant   0.1\n",
      "4                   Gym   0.1\n",
      "5                Market   0.1\n",
      "6  Fast Food Restaurant   0.1\n",
      "7            Beer Store   0.1\n",
      "8                Bakery   0.1\n",
      "9     Afghan Restaurant   0.0\n",
      "\n",
      "\n",
      "----M6G----\n",
      "                venue  freq\n",
      "0                Café  0.25\n",
      "1       Grocery Store  0.17\n",
      "2  Athletics & Sports  0.08\n",
      "3         Coffee Shop  0.08\n",
      "4                Bank  0.08\n",
      "5          Baby Store  0.08\n",
      "6         Candy Store  0.08\n",
      "7          Playground  0.08\n",
      "8  Italian Restaurant  0.08\n",
      "9       Movie Theater  0.00\n",
      "\n",
      "\n",
      "----M6H----\n",
      "                       venue  freq\n",
      "0                       Park  0.13\n",
      "1  Middle Eastern Restaurant  0.07\n",
      "2                        Bar  0.07\n",
      "3     Furniture / Home Store  0.07\n",
      "4                       Café  0.07\n",
      "5                Art Gallery  0.07\n",
      "6                   Pharmacy  0.07\n",
      "7                  Pet Store  0.07\n",
      "8       Gym / Fitness Center  0.07\n",
      "9       Brazilian Restaurant  0.07\n",
      "\n",
      "\n",
      "----M6J----\n",
      "                     venue  freq\n",
      "0                      Bar  0.08\n",
      "1             Cocktail Bar  0.06\n",
      "2              Coffee Shop  0.06\n",
      "3         Asian Restaurant  0.06\n",
      "4               Restaurant  0.06\n",
      "5  New American Restaurant  0.04\n",
      "6                 Wine Bar  0.04\n",
      "7    Vietnamese Restaurant  0.04\n",
      "8              Pizza Place  0.04\n",
      "9             Skating Rink  0.02\n",
      "\n",
      "\n",
      "----M6K----\n",
      "                           venue  freq\n",
      "0                    Coffee Shop  0.09\n",
      "1                           Café  0.06\n",
      "2         Furniture / Home Store  0.06\n",
      "3                     Restaurant  0.06\n",
      "4                         Bakery  0.05\n",
      "5  Vegetarian / Vegan Restaurant  0.03\n",
      "6                            Gym  0.03\n",
      "7                          Hotel  0.03\n",
      "8                       Beer Bar  0.03\n",
      "9                            Bar  0.03\n",
      "\n",
      "\n",
      "----M6L----\n",
      "               venue  freq\n",
      "0               Park  0.33\n",
      "1   Basketball Court  0.33\n",
      "2             Bakery  0.33\n",
      "3       Neighborhood  0.00\n",
      "4        Music Venue  0.00\n",
      "5        Music Store  0.00\n",
      "6             Museum  0.00\n",
      "7      Moving Target  0.00\n",
      "8      Movie Theater  0.00\n",
      "9  Afghan Restaurant  0.00\n",
      "\n",
      "\n",
      "----M6M----\n",
      "                        venue  freq\n",
      "0        Fast Food Restaurant  0.50\n",
      "1  Construction & Landscaping  0.25\n",
      "2                 Coffee Shop  0.25\n",
      "3                      Museum  0.00\n",
      "4     New American Restaurant  0.00\n",
      "5                Neighborhood  0.00\n",
      "6                 Music Venue  0.00\n",
      "7                 Music Store  0.00\n",
      "8               Moving Target  0.00\n",
      "9                Noodle House  0.00\n",
      "\n",
      "\n",
      "----M6N----\n",
      "                    venue  freq\n",
      "0                 Brewery  0.50\n",
      "1            Home Service  0.17\n",
      "2  Furniture / Home Store  0.17\n",
      "3      Athletics & Sports  0.17\n",
      "4       Afghan Restaurant  0.00\n",
      "5     Monument / Landmark  0.00\n",
      "6             Music Venue  0.00\n",
      "7             Music Store  0.00\n",
      "8                  Museum  0.00\n",
      "9           Moving Target  0.00\n",
      "\n",
      "\n",
      "----M6P----\n",
      "                                      venue  freq\n",
      "0                                      Park  0.25\n",
      "1  Residential Building (Apartment / Condo)  0.25\n",
      "2                         Convenience Store  0.25\n",
      "3                            Sandwich Place  0.25\n",
      "4                        Miscellaneous Shop  0.00\n",
      "5                Modern European Restaurant  0.00\n",
      "6           Molecular Gastronomy Restaurant  0.00\n",
      "7                       Monument / Landmark  0.00\n",
      "8                             Movie Theater  0.00\n",
      "9                   New American Restaurant  0.00\n",
      "\n",
      "\n",
      "----M6R----\n",
      "                         venue  freq\n",
      "0                  Coffee Shop  0.08\n",
      "1                   Restaurant  0.06\n",
      "2  Eastern European Restaurant  0.06\n",
      "3                       Bakery  0.06\n",
      "4                    Gift Shop  0.04\n",
      "5             Sushi Restaurant  0.04\n",
      "6              Thai Restaurant  0.04\n",
      "7            Food & Drink Shop  0.04\n",
      "8                    Bookstore  0.04\n",
      "9          American Restaurant  0.04\n",
      "\n",
      "\n",
      "----M6S----\n",
      "               venue  freq\n",
      "0               Café  0.10\n",
      "1        Coffee Shop  0.10\n",
      "2             Bakery  0.07\n",
      "3        Pizza Place  0.05\n",
      "4  Indian Restaurant  0.02\n",
      "5        Flower Shop  0.02\n",
      "6          Bookstore  0.02\n",
      "7         Restaurant  0.02\n",
      "8                Gym  0.02\n",
      "9   Greek Restaurant  0.02\n",
      "\n",
      "\n",
      "----M7A----\n",
      "                      venue  freq\n",
      "0               Coffee Shop  0.35\n",
      "1                      Café  0.08\n",
      "2            Sandwich Place  0.08\n",
      "3        Italian Restaurant  0.06\n",
      "4          Sculpture Garden  0.02\n",
      "5         College Cafeteria  0.02\n",
      "6        College Auditorium  0.02\n",
      "7          Sushi Restaurant  0.02\n",
      "8                 Bookstore  0.02\n",
      "9  Mediterranean Restaurant  0.02\n",
      "\n",
      "\n",
      "----M7R----\n",
      "              venue  freq\n",
      "0       Coffee Shop  0.09\n",
      "1              Café  0.04\n",
      "2        Steakhouse  0.04\n",
      "3               Bar  0.04\n",
      "4             Hotel  0.04\n",
      "5               Pub  0.03\n",
      "6        Restaurant  0.03\n",
      "7       Pizza Place  0.03\n",
      "8               Gym  0.03\n",
      "9  Sushi Restaurant  0.03\n",
      "\n",
      "\n",
      "----M7Y----\n",
      "              venue  freq\n",
      "0       Coffee Shop  0.09\n",
      "1              Café  0.04\n",
      "2        Steakhouse  0.04\n",
      "3               Bar  0.04\n",
      "4             Hotel  0.04\n",
      "5               Pub  0.03\n",
      "6        Restaurant  0.03\n",
      "7       Pizza Place  0.03\n",
      "8               Gym  0.03\n",
      "9  Sushi Restaurant  0.03\n",
      "\n",
      "\n",
      "----M8V----\n",
      "                 venue  freq\n",
      "0    Convenience Store  0.25\n",
      "1       Breakfast Spot  0.12\n",
      "2        Grocery Store  0.12\n",
      "3                 Bank  0.12\n",
      "4         Skating Rink  0.12\n",
      "5           Beer Store  0.12\n",
      "6    Indian Restaurant  0.12\n",
      "7  Monument / Landmark  0.00\n",
      "8        Movie Theater  0.00\n",
      "9            Nightclub  0.00\n",
      "\n",
      "\n",
      "----M8W----\n",
      "                     venue  freq\n",
      "0        Convenience Store   0.2\n",
      "1                      Gym   0.2\n",
      "2       Athletics & Sports   0.2\n",
      "3                      Pub   0.2\n",
      "4           Sandwich Place   0.2\n",
      "5                   Museum   0.0\n",
      "6  New American Restaurant   0.0\n",
      "7             Neighborhood   0.0\n",
      "8              Music Venue   0.0\n",
      "9              Music Store   0.0\n",
      "\n",
      "\n",
      "----M8X----\n",
      "                             venue  freq\n",
      "0                             Park   0.5\n",
      "1                             Pool   0.5\n",
      "2                Afghan Restaurant   0.0\n",
      "3                      Music Venue   0.0\n",
      "4                      Music Store   0.0\n",
      "5                           Museum   0.0\n",
      "6                    Moving Target   0.0\n",
      "7                    Movie Theater   0.0\n",
      "8              Monument / Landmark   0.0\n",
      "9  Molecular Gastronomy Restaurant   0.0\n",
      "\n",
      "\n",
      "----M8Y----\n",
      "                  venue  freq\n",
      "0  Fast Food Restaurant   0.2\n",
      "1    Chinese Restaurant   0.2\n",
      "2           Coffee Shop   0.2\n",
      "3    Italian Restaurant   0.2\n",
      "4      Sushi Restaurant   0.2\n",
      "5             Nightclub   0.0\n",
      "6          Neighborhood   0.0\n",
      "7           Music Venue   0.0\n",
      "8           Music Store   0.0\n",
      "9     Afghan Restaurant   0.0\n",
      "\n",
      "\n",
      "----M8Z----\n",
      "                       venue  freq\n",
      "0              Burrito Place  0.18\n",
      "1               Burger Joint  0.06\n",
      "2               Optical Shop  0.06\n",
      "3             Mattress Store  0.06\n",
      "4  Middle Eastern Restaurant  0.06\n",
      "5         Miscellaneous Shop  0.06\n",
      "6                     Buffet  0.06\n",
      "7           Sushi Restaurant  0.06\n",
      "8                        Gym  0.06\n",
      "9            Thai Restaurant  0.06\n",
      "\n",
      "\n",
      "----M9A----\n",
      "           venue  freq\n",
      "0       Pharmacy  0.33\n",
      "1           Café  0.11\n",
      "2  Grocery Store  0.11\n",
      "3           Bank  0.11\n",
      "4  Shopping Mall  0.11\n",
      "5   Skating Rink  0.11\n",
      "6           Park  0.11\n",
      "7  Moving Target  0.00\n",
      "8    Music Store  0.00\n",
      "9         Museum  0.00\n",
      "\n",
      "\n",
      "----M9C----\n",
      "                venue  freq\n",
      "0   Fish & Chips Shop  0.17\n",
      "1       Grocery Store  0.17\n",
      "2   Electronics Store  0.17\n",
      "3        Carpet Store  0.17\n",
      "4       Shopping Mall  0.17\n",
      "5  College Rec Center  0.17\n",
      "6              Museum  0.00\n",
      "7         Music Venue  0.00\n",
      "8         Music Store  0.00\n",
      "9   Afghan Restaurant  0.00\n",
      "\n",
      "\n",
      "----M9L----\n",
      "                             venue  freq\n",
      "0              Sporting Goods Shop   0.5\n",
      "1                     Home Service   0.5\n",
      "2  Molecular Gastronomy Restaurant   0.0\n",
      "3                      Music Venue   0.0\n",
      "4                      Music Store   0.0\n",
      "5                           Museum   0.0\n",
      "6                    Moving Target   0.0\n",
      "7                    Movie Theater   0.0\n",
      "8              Monument / Landmark   0.0\n",
      "9                Afghan Restaurant   0.0\n",
      "\n",
      "\n",
      "----M9M----\n",
      "               venue  freq\n",
      "0        Coffee Shop  0.50\n",
      "1               Park  0.25\n",
      "2          Nightclub  0.25\n",
      "3  Afghan Restaurant  0.00\n",
      "4       Neighborhood  0.00\n",
      "5        Music Venue  0.00\n",
      "6        Music Store  0.00\n",
      "7             Museum  0.00\n",
      "8      Moving Target  0.00\n",
      "9      Movie Theater  0.00\n",
      "\n",
      "\n",
      "----M9N----\n",
      "                             venue  freq\n",
      "0                      Pizza Place   0.2\n",
      "1              Fried Chicken Joint   0.2\n",
      "2                         Pharmacy   0.2\n",
      "3                             Park   0.2\n",
      "4                            Diner   0.2\n",
      "5  Molecular Gastronomy Restaurant   0.0\n",
      "6                      Music Store   0.0\n",
      "7                           Museum   0.0\n",
      "8                    Moving Target   0.0\n",
      "9                    Movie Theater   0.0\n",
      "\n",
      "\n",
      "----M9P----\n",
      "                     venue  freq\n",
      "0              Pizza Place   0.4\n",
      "1           Sandwich Place   0.2\n",
      "2       Chinese Restaurant   0.2\n",
      "3              Coffee Shop   0.2\n",
      "4                   Museum   0.0\n",
      "5  New American Restaurant   0.0\n",
      "6             Neighborhood   0.0\n",
      "7              Music Venue   0.0\n",
      "8              Music Store   0.0\n",
      "9        Afghan Restaurant   0.0\n",
      "\n",
      "\n",
      "----M9R----\n",
      "                 venue  freq\n",
      "0          Pizza Place  0.25\n",
      "1             Bus Line  0.25\n",
      "2  Arts & Crafts Store  0.25\n",
      "3             Bus Stop  0.25\n",
      "4    Afghan Restaurant  0.00\n",
      "5        Movie Theater  0.00\n",
      "6         Neighborhood  0.00\n",
      "7          Music Venue  0.00\n",
      "8          Music Store  0.00\n",
      "9               Museum  0.00\n",
      "\n",
      "\n",
      "----M9V----\n",
      "                  venue  freq\n",
      "0         Grocery Store  0.14\n",
      "1   Fried Chicken Joint  0.07\n",
      "2        Hardware Store  0.07\n",
      "3              Pharmacy  0.07\n",
      "4                  Park  0.07\n",
      "5           Coffee Shop  0.07\n",
      "6        Sandwich Place  0.07\n",
      "7  Fast Food Restaurant  0.07\n",
      "8  Caribbean Restaurant  0.07\n",
      "9          Liquor Store  0.07\n",
      "\n",
      "\n",
      "----M9W----\n",
      "                       venue  freq\n",
      "0               Burger Joint  0.14\n",
      "1                Gas Station  0.14\n",
      "2  Middle Eastern Restaurant  0.14\n",
      "3                        Gym  0.14\n",
      "4                Coffee Shop  0.14\n",
      "5           Storage Facility  0.14\n",
      "6             Sandwich Place  0.14\n",
      "7                Music Venue  0.00\n",
      "8                Music Store  0.00\n",
      "9                     Museum  0.00\n",
      "\n",
      "\n"
     ],
     "output_type": "stream"
    }
   ],
   "source": [
    "num_top_venues = 10\n",
    "\n",
    "for hood in toronto_grouped['Postal Code']:\n",
    "    print(\"----\"+hood+\"----\")\n",
    "    temp = toronto_grouped[toronto_grouped['Postal Code'] == hood].T.reset_index()\n",
    "    temp.columns = ['venue','freq']\n",
    "    temp = temp.iloc[1:]\n",
    "    temp['freq'] = temp['freq'].astype(float)\n",
    "    temp = temp.round({'freq': 2})\n",
    "    print(temp.sort_values('freq', ascending=False).reset_index(drop=True).head(num_top_venues))\n",
    "    print('\\n')"
   ],
   "metadata": {
    "collapsed": false,
    "pycharm": {
     "name": "#%%\n",
     "is_executing": false
    }
   }
  },
  {
   "cell_type": "markdown",
   "source": [
    "- build a dataframe of the most common venues in each postal code"
   ],
   "metadata": {
    "collapsed": false,
    "pycharm": {
     "name": "#%% md\n"
    }
   }
  },
  {
   "cell_type": "code",
   "execution_count": 73,
   "outputs": [
    {
     "data": {
      "text/plain": "  Postal Code       1st Most Common Venue 2nd Most Common Venue  \\\n0         M1B                Home Service            Food Court   \n1         M1C                         Bar           Yoga Studio   \n2         M1E  Construction & Landscaping  Gym / Fitness Center   \n3         M1G           Indian Restaurant     Korean Restaurant   \n4         M1H                  Playground     Food & Drink Shop   \n\n  3rd Most Common Venue 4th Most Common Venue 5th Most Common Venue  \\\n0                  Food           Flower Shop           Flea Market   \n1     Food & Drink Shop                  Food           Flower Shop   \n2                  Park           Flea Market           Fish Market   \n3                  Park           Coffee Shop      Business Service   \n4           Flower Shop           Flea Market           Fish Market   \n\n  6th Most Common Venue 7th Most Common Venue 8th Most Common Venue  \\\n0           Fish Market     Fish & Chips Shop                 Field   \n1           Flea Market           Fish Market     Fish & Chips Shop   \n2     Fish & Chips Shop                 Field  Fast Food Restaurant   \n3           Yoga Studio           Event Space    Falafel Restaurant   \n4     Fish & Chips Shop                 Field  Fast Food Restaurant   \n\n  9th Most Common Venue 10th Most Common Venue  \n0  Fast Food Restaurant         Farmers Market  \n1                 Field   Fast Food Restaurant  \n2   Dumpling Restaurant         Farmers Market  \n3                  Farm         Farmers Market  \n4        Farmers Market                   Farm  ",
      "text/html": "<div>\n<style scoped>\n    .dataframe tbody tr th:only-of-type {\n        vertical-align: middle;\n    }\n\n    .dataframe tbody tr th {\n        vertical-align: top;\n    }\n\n    .dataframe thead th {\n        text-align: right;\n    }\n</style>\n<table border=\"1\" class=\"dataframe\">\n  <thead>\n    <tr style=\"text-align: right;\">\n      <th></th>\n      <th>Postal Code</th>\n      <th>1st Most Common Venue</th>\n      <th>2nd Most Common Venue</th>\n      <th>3rd Most Common Venue</th>\n      <th>4th Most Common Venue</th>\n      <th>5th Most Common Venue</th>\n      <th>6th Most Common Venue</th>\n      <th>7th Most Common Venue</th>\n      <th>8th Most Common Venue</th>\n      <th>9th Most Common Venue</th>\n      <th>10th Most Common Venue</th>\n    </tr>\n  </thead>\n  <tbody>\n    <tr>\n      <th>0</th>\n      <td>M1B</td>\n      <td>Home Service</td>\n      <td>Food Court</td>\n      <td>Food</td>\n      <td>Flower Shop</td>\n      <td>Flea Market</td>\n      <td>Fish Market</td>\n      <td>Fish &amp; Chips Shop</td>\n      <td>Field</td>\n      <td>Fast Food Restaurant</td>\n      <td>Farmers Market</td>\n    </tr>\n    <tr>\n      <th>1</th>\n      <td>M1C</td>\n      <td>Bar</td>\n      <td>Yoga Studio</td>\n      <td>Food &amp; Drink Shop</td>\n      <td>Food</td>\n      <td>Flower Shop</td>\n      <td>Flea Market</td>\n      <td>Fish Market</td>\n      <td>Fish &amp; Chips Shop</td>\n      <td>Field</td>\n      <td>Fast Food Restaurant</td>\n    </tr>\n    <tr>\n      <th>2</th>\n      <td>M1E</td>\n      <td>Construction &amp; Landscaping</td>\n      <td>Gym / Fitness Center</td>\n      <td>Park</td>\n      <td>Flea Market</td>\n      <td>Fish Market</td>\n      <td>Fish &amp; Chips Shop</td>\n      <td>Field</td>\n      <td>Fast Food Restaurant</td>\n      <td>Dumpling Restaurant</td>\n      <td>Farmers Market</td>\n    </tr>\n    <tr>\n      <th>3</th>\n      <td>M1G</td>\n      <td>Indian Restaurant</td>\n      <td>Korean Restaurant</td>\n      <td>Park</td>\n      <td>Coffee Shop</td>\n      <td>Business Service</td>\n      <td>Yoga Studio</td>\n      <td>Event Space</td>\n      <td>Falafel Restaurant</td>\n      <td>Farm</td>\n      <td>Farmers Market</td>\n    </tr>\n    <tr>\n      <th>4</th>\n      <td>M1H</td>\n      <td>Playground</td>\n      <td>Food &amp; Drink Shop</td>\n      <td>Flower Shop</td>\n      <td>Flea Market</td>\n      <td>Fish Market</td>\n      <td>Fish &amp; Chips Shop</td>\n      <td>Field</td>\n      <td>Fast Food Restaurant</td>\n      <td>Farmers Market</td>\n      <td>Farm</td>\n    </tr>\n  </tbody>\n</table>\n</div>"
     },
     "metadata": {},
     "output_type": "execute_result",
     "execution_count": 73
    }
   ],
   "source": [
    "def return_most_common_venues(row, num_top_venues):\n",
    "    row_categories = row.iloc[1:]\n",
    "    row_categories_sorted = row_categories.sort_values(ascending=False)\n",
    "    \n",
    "    return row_categories_sorted.index.values[0:num_top_venues]\n",
    "\n",
    "num_top_venues = 10\n",
    "\n",
    "indicators = ['st', 'nd', 'rd']\n",
    "\n",
    "# create columns according to number of top venues\n",
    "columns = ['Postal Code']\n",
    "for ind in np.arange(num_top_venues):\n",
    "    try:\n",
    "        columns.append('{}{} Most Common Venue'.format(ind+1, indicators[ind]))\n",
    "    except:\n",
    "        columns.append('{}th Most Common Venue'.format(ind+1))\n",
    "\n",
    "# create a new dataframe\n",
    "neighborhoods_venues_sorted = pd.DataFrame(columns=columns)\n",
    "neighborhoods_venues_sorted['Postal Code'] = toronto_grouped['Postal Code']\n",
    "\n",
    "for ind in np.arange(toronto_grouped.shape[0]):\n",
    "    neighborhoods_venues_sorted.iloc[ind, 1:] = return_most_common_venues(toronto_grouped.iloc[ind, :], num_top_venues)\n",
    "\n",
    "neighborhoods_venues_sorted.head()"
   ],
   "metadata": {
    "collapsed": false,
    "pycharm": {
     "name": "#%%\n",
     "is_executing": false
    }
   }
  },
  {
   "cell_type": "markdown",
   "source": [
    "- cluster the postal codes"
   ],
   "metadata": {
    "collapsed": false,
    "pycharm": {
     "name": "#%% md\n"
    }
   }
  },
  {
   "cell_type": "code",
   "execution_count": 74,
   "outputs": [
    {
     "data": {
      "text/plain": "<module 'matplotlib.pyplot' from '/home/sstump/development/ds-capstone/venv/lib/python3.6/site-packages/matplotlib/pyplot.py'>"
     },
     "metadata": {},
     "output_type": "execute_result",
     "execution_count": 74
    },
    {
     "data": {
      "text/plain": "<Figure size 720x720 with 1 Axes>",
      "image/png": "[encoded data removed]"
     },
     "metadata": {
      "needs_background": "light"
     },
     "output_type": "display_data"
    }
   ],
   "source": [
    "k_list = []\n",
    "sse = []\n",
    "tgc = toronto_grouped.drop('Postal Code', 1)\n",
    "for k in range(2, 21):\n",
    "    kmeans = KMeans(n_clusters=k, init='k-means++',random_state=0).fit(tgc)\n",
    "#    yhat = kmeans.predict(tgc)\n",
    "#    print(k, kmeans.score(tgc, yhat))\n",
    "    k_list.append(k)\n",
    "    sse.append(kmeans.inertia_)\n",
    "plt.figure(figsize=(10,10))\n",
    "plt.plot(k_list, sse, '-o')\n",
    "plt.xlabel('Number of clusters: k')\n",
    "plt.ylabel('Sum of squares distance')\n",
    "plt"
   ],
   "metadata": {
    "collapsed": false,
    "pycharm": {
     "name": "#%%\n",
     "is_executing": false
    }
   }
  },
  {
   "cell_type": "markdown",
   "source": [
    "- the curve doesn't show a strong elbow, but there is a small one at k=8, so that's where we will proceed."
   ],
   "metadata": {
    "collapsed": false,
    "pycharm": {
     "name": "#%% md\n"
    }
   }
  },
  {
   "cell_type": "code",
   "execution_count": 75,
   "outputs": [],
   "source": [
    "k = 8\n",
    "kmeans = KMeans(n_clusters=k, init='k-means++',random_state=0).fit(tgc)"
   ],
   "metadata": {
    "collapsed": false,
    "pycharm": {
     "name": "#%%\n",
     "is_executing": false
    }
   }
  },
  {
   "cell_type": "markdown",
   "source": [
    "- build a dataframe that includes cluster"
   ],
   "metadata": {
    "collapsed": false,
    "pycharm": {
     "name": "#%% md\n"
    }
   }
  },
  {
   "cell_type": "code",
   "execution_count": 76,
   "outputs": [
    {
     "name": "stdout",
     "text": [
      "   index PostalCode      Borough                              Neighborhood  \\\n",
      "0      0        M1B  Scarborough                          [Rouge, Malvern]   \n",
      "1      1        M1C  Scarborough  [Highland Creek, Rouge Hill, Port Union]   \n",
      "2      2        M1E  Scarborough       [Guildwood, Morningside, West Hill]   \n",
      "3      3        M1G  Scarborough                                  [Woburn]   \n",
      "4      4        M1H  Scarborough                               [Cedarbrae]   \n",
      "\n",
      "    Latitude  Longitude  Cluster Labels       1st Most Common Venue  \\\n",
      "0  43.811525 -79.195517             2.0                Home Service   \n",
      "1  43.785665 -79.158725             3.0                         Bar   \n",
      "2  43.765815 -79.175193             1.0  Construction & Landscaping   \n",
      "3  43.768369 -79.217590             7.0           Indian Restaurant   \n",
      "4  43.769688 -79.239440             0.0                  Playground   \n",
      "\n",
      "  2nd Most Common Venue 3rd Most Common Venue 4th Most Common Venue  \\\n",
      "0            Food Court                  Food           Flower Shop   \n",
      "1           Yoga Studio     Food & Drink Shop                  Food   \n",
      "2  Gym / Fitness Center                  Park           Flea Market   \n",
      "3     Korean Restaurant                  Park           Coffee Shop   \n",
      "4     Food & Drink Shop           Flower Shop           Flea Market   \n",
      "\n",
      "  5th Most Common Venue 6th Most Common Venue 7th Most Common Venue  \\\n",
      "0           Flea Market           Fish Market     Fish & Chips Shop   \n",
      "1           Flower Shop           Flea Market           Fish Market   \n",
      "2           Fish Market     Fish & Chips Shop                 Field   \n",
      "3      Business Service           Yoga Studio           Event Space   \n",
      "4           Fish Market     Fish & Chips Shop                 Field   \n",
      "\n",
      "  8th Most Common Venue 9th Most Common Venue 10th Most Common Venue  \n",
      "0                 Field  Fast Food Restaurant         Farmers Market  \n",
      "1     Fish & Chips Shop                 Field   Fast Food Restaurant  \n",
      "2  Fast Food Restaurant   Dumpling Restaurant         Farmers Market  \n",
      "3    Falafel Restaurant                  Farm         Farmers Market  \n",
      "4  Fast Food Restaurant        Farmers Market                   Farm  \n"
     ],
     "output_type": "stream"
    }
   ],
   "source": [
    "# add cluster labels\n",
    "lbl = list(map(lambda t: int(t), kmeans.labels_))\n",
    "\n",
    "neighborhoods_venues_sorted.insert(0, 'Cluster Labels', lbl)\n",
    "toronto_merged = df\n",
    "\n",
    "toronto_merged = toronto_merged.reset_index(level=0)\n",
    "#neighborhoods_venues_sorted.head()\n",
    "# merge toronto_grouped with toronto_data to add latitude/longitude for each neighborhood\n",
    "toronto_merged = toronto_merged.join(neighborhoods_venues_sorted.set_index('Postal Code'), on='PostalCode')\n",
    "\n",
    "\n",
    "print(toronto_merged.head()) # check the last columns!"
   ],
   "metadata": {
    "collapsed": false,
    "pycharm": {
     "name": "#%%\n",
     "is_executing": false
    }
   }
  },
  {
   "cell_type": "markdown",
   "source": [
    "- plot the clustered map\n"
   ],
   "metadata": {
    "collapsed": false,
    "pycharm": {
     "name": "#%% md\n"
    }
   }
  },
  {
   "cell_type": "code",
   "execution_count": 77,
   "outputs": [
    {
     "data": {
      "text/plain": "<folium.folium.Map at 0x7fac61e08dd8>",
      "text/html": "<div style=\"width:100%;\"><div style=\"position:relative;width:100%;height:0;padding-bottom:60%;\"><iframe src=\"data:text/html;charset=utf-8;base64,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\" style=\"position:absolute;width:100%;height:100%;left:0;top:0;border:none !important;\" allowfullscreen webkitallowfullscreen mozallowfullscreen></iframe></div></div>"
     },
     "metadata": {},
     "output_type": "execute_result",
     "execution_count": 77
    }
   ],
   "source": [
    "import matplotlib.cm as cm\n",
    "import matplotlib.colors as colors\n",
    "import math\n",
    "\n",
    "# create map\n",
    "map_clusters = folium.Map(location=toronto_center, zoom_start=10)\n",
    "\n",
    "# set color scheme for the clusters\n",
    "x = np.arange(k)\n",
    "ys = [i + x + (i*x)**2 for i in range(k)]\n",
    "colors_array = cm.rainbow(np.linspace(0, 1, len(ys)))\n",
    "rainbow = [colors.rgb2hex(i) for i in colors_array]\n",
    "\n",
    "# add markers to the map\n",
    "markers_colors = []\n",
    "for lat, lng, poi, cluster in zip(toronto_merged['Latitude'], toronto_merged['Longitude'], toronto_merged['PostalCode'], toronto_merged['Cluster Labels']):\n",
    "    if math.isnan(cluster):\n",
    "        cluster = 0\n",
    "    label = folium.Popup(str(poi) + ' Cluster ' + str(int(cluster)), parse_html=True)\n",
    "    folium.CircleMarker(\n",
    "        [lat, lng],\n",
    "        radius=5,\n",
    "        popup=label,\n",
    "        color=rainbow[int(cluster)-1],\n",
    "        fill=True,\n",
    "        fill_color=rainbow[int(cluster)-1],\n",
    "        fill_opacity=0.7).add_to(map_clusters)\n",
    "       \n",
    "map_clusters"
   ],
   "metadata": {
    "collapsed": false,
    "pycharm": {
     "name": "#%%\n",
     "is_executing": false
    }
   }
  }
 ],
 "metadata": {
  "kernelspec": {
   "display_name": "Python 3",
   "language": "python",
   "name": "python3"
  },
  "language_info": {
   "codemirror_mode": {
    "name": "ipython",
    "version": 2
   },
   "file_extension": ".py",
   "mimetype": "text/x-python",
   "name": "python",
   "nbconvert_exporter": "python",
   "pygments_lexer": "ipython2",
   "version": "2.7.6"
  },
  "pycharm": {
   "stem_cell": {
    "cell_type": "raw",
    "source": [],
    "metadata": {
     "collapsed": false
    }
   }
  }
 },
 "nbformat": 4,
 "nbformat_minor": 0
}