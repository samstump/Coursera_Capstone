{
 "cells": [
  {
   "cell_type": "markdown",
   "metadata": {
    "collapsed": true,
    "pycharm": {
     "name": "#%% md\n"
    }
   },
   "source": [
    "# Applied Data Science Capstone - Final Project\n",
    "#### Sam Stump\n",
    "January 2020"
   ]
  },
  {
   "cell_type": "markdown",
   "source": [
    "## 1. Introduction \n",
    "Wilmington, Delaware USA and Philadelphia, Pennsylvania USA are only 32 miles (52 km) apart \n",
    "center to center.\n",
    "By population, Philadelphia, at 1.5 million, is nearly 20 times the size of Wilmington, which\n",
    "is home to about 77 thousand.\n",
    "Successful businesses in Wilmington will look to expand in the Philadelphia area due to its \n",
    "proximity and market size."
   ],
   "metadata": {
    "collapsed": false,
    "pycharm": {
     "name": "#%% md\n"
    }
   }
  },
  {
   "cell_type": "markdown",
   "source": [
    "This project attempts to the characterize and cluster the neighborhoods of Philadelphia according\n",
    "to the categories of venues in those neighborhoods.\n",
    "Businesses looking to expand in Philadelphia can use this data to identify potential new \n",
    "establishments in neighborhoods that are similar to existing locations.   "
   ],
   "metadata": {
    "collapsed": false,
    "pycharm": {
     "name": "#%% md\n"
    }
   }
  },
  {
   "cell_type": "markdown",
   "source": [
    "## 2. Orientation\n",
    "This section will present a few maps of the area to help the reader become familiar with this part\n",
    "of the country."
   ],
   "metadata": {
    "collapsed": false,
    "pycharm": {
     "name": "#%% md\n"
    }
   }
  },
  {
   "cell_type": "markdown",
   "source": [
    "### 2.1 Map of Philadelphia, Wilmington and Surrounding Area"
   ],
   "metadata": {
    "collapsed": false
   }
  },
  {
   "cell_type": "code",
   "execution_count": 19,
   "outputs": [
    {
     "data": {
      "text/plain": "<folium.folium.Map at 0x7f74499b04a8>",
      "text/html": "<div style=\"width:100%;\"><div style=\"position:relative;width:100%;height:0;padding-bottom:60%;\"><iframe src=\"data:text/html;charset=utf-8;base64,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\" style=\"position:absolute;width:100%;height:100%;left:0;top:0;border:none !important;\" allowfullscreen webkitallowfullscreen mozallowfullscreen></iframe></div></div>"
     },
     "metadata": {},
     "output_type": "execute_result",
     "execution_count": 19
    }
   ],
   "source": [
    "# plot a map of the area\n",
    "import geocoder\n",
    "import folium\n",
    "\n",
    "# Wilmington City Hall\n",
    "g = geocoder.arcgis('800 North French Street, Wilmington, DE')\n",
    "props = g.geojson['features'][0]['properties']\n",
    "city_hall_wilmington = (props['lat'], props['lng']) \n",
    "\n",
    "# Philadelphia City Hall\n",
    "g = geocoder.arcgis('City Hall, Philadelphia, PA')\n",
    "props = g.geojson['features'][0]['properties']\n",
    "city_hall_philadelphia = (props['lat'], props['lng'])\n",
    "\n",
    "# Compute a point for the center of the map\n",
    "map_center = (\n",
    "    (city_hall_wilmington[0] + city_hall_philadelphia[0])/2, \n",
    "    (city_hall_wilmington[1] + city_hall_philadelphia[1])/2)\n",
    "\n",
    "# Plot the map, mark city hall in each city.\n",
    "the_map = folium.Map(location=map_center, zoom_start=9)\n",
    "\n",
    "marker_radius = 10\n",
    "marker_color = 'red'\n",
    "folium.CircleMarker(location=city_hall_wilmington, radius=marker_radius, tooltip=\"Wilmington City Hall\", fill=True, color=marker_color).add_to(the_map)\n",
    "folium.CircleMarker(location=city_hall_philadelphia, radius=marker_radius, tooltip=\"Philadelphia City Hall\", fill=True, color=marker_color).add_to(the_map)\n",
    "the_map"
   ],
   "metadata": {
    "collapsed": false,
    "pycharm": {
     "name": "#%%\n",
     "is_executing": false
    }
   }
  },
  {
   "cell_type": "markdown",
   "source": [
    "### 2.2 Planning Zones and Neighborhoods of Philadelphia\n",
    "The city of Philadelphia is divided into 12 planning zones, and each zone is home to a\n",
    "number of neighborhoods.\n",
    "The zones and neighborhoods of Philadelphia are listed in the table below, according to \n",
    "wiki page _\"List of Philadelphia neighborhoods\"_ \n",
    "[[1](https://en.wikipedia.org/wiki/List_of_Philadelphia_neighborhoods)].\n",
    "\n",
    "\n",
    "| ID | Zone | Included Neighborhoods |\n",
    "| --:| ---- | ---------------------- |\n",
    "|1   | Center City | Avenue of the Arts, Callowhill, Chinatown, Elfreth's Alley, French Quarter, Logan Square, Naval Square, Jewelers' Row, Market East, Old City, Museum District, Penn Center, Rittenhouse Square,Fitler Square, Penn's Landing, Society Hill, South Street, Washington Square West |\n",
    "|2   | South Philadelphia | Bella Vista, Central South Philadelphia, Devil's Pocket, Dickinson Square West, East Passyunk Crossing, Franklin Delano Roosevelt Park, Girard Estate, 7th and Dudley Streets, Grays Ferry, Hawthorne, Italian Market 9th Street, Little Saigon, Lower Moyamensing, Marconi Plaza, Moyamensing, Newbold Heights, Packer Park, Passyunk Square, Pennsport, Point Breeze, Queen Village, Schuylkill, South Philadelphia Sports Complex, Tasker, Wharton, Whitman, Wilson Park, West Passyunk, Southwark, Graduate Hospital|\n",
    "|3   | Southwest Philadelphia | Angora, Bartram Village, Clearview, Kingsessing, Eastwick, Elmwood Park, Hedgerow, Mount Moriah, Paschall, Philadelphia International Airport, Penrose, Southwest Schuylkill, Hog Island|  \n",
    "|4   | West Philadelphia | Belmont Village, Carroll Park, Cathedral Park, Cedar Park, Centennial District, Dunlap, Garden Court, Haddington, Haverford North, Mantua, Mill Creek, Overbrook, Overbrook Park, Overbrook Farms, Parkside, Powelton Village, Saunders Park, Spruce Hill, Squirrel Hill, University City, Walnut Hill, Woodland Terrace, Wynnefield Heights, Cobbs Creek, Wynnefield| \n",
    "|5   | Lower North Philadelphia | Brewerytown, Cecil B. Moore, Hartranft, Ludlow, Poplar, Sharswood, Spring Garden, Stanton, Strawberry Mansion, Yorktown, Fairmont, Northern Liberties |\n",
    "|6   | Upper North Philadelphia | Allegheny West, Fairhill, Glenwood, Hunting Park, Nicetown-Tioga |\n",
    "|7   | Bridesburg, Kensington, Port Richmond | Bridesburg, Fishtown, Kensington, South Kensington, East Kensington, West Kensington, Port Richmond |\n",
    "|8   | Roxborough, Manayunk | Andorra, East Falls, Wissahickon, Roxborough, Manayunk |\n",
    "|9   | Germantown, Chestnut Hill | Chestnut Hill, Mount Airy, Germantown, Morton, Wister, Cedarbrook |\n",
    "|10  | Olney, Oak Lane | East Oak Lane, Feltonville, Fern Rock, Koreatown, Logan, Melrose Park, Ogontz, Olney, West Oak Lane |\n",
    "|11  | Near Northeast Philadelphia | Burlholme, Castor Garden, Crescentville, Fox Chase, Holmesbirg, Juniata, Lawncrest, Lawndale, Lexington Park, Mayfair, Northwood, Oxford Circle, Rhawnhurst, Ryders, Tacony, Wissinoming |\n",
    "|12  | Far Northeast Philadelphia | Academy Gardens, Ashton-Woodenbridge, Bustleton, Byberry, Crestmont Farms, Krewstown, Millbrook, Modena Park, Morrell Park, Normandy, Parkwood, Pennypack, Somerton, Torresdale, Upper Holmesburg, Winchester Park |\n"
   ],
   "metadata": {
    "collapsed": false,
    "pycharm": {
     "name": "#%% md\n"
    }
   }
  },
  {
   "cell_type": "markdown",
   "source": [
    "### 2.3 Map of the Neighborhoods of Philadelphia\n",
    "\n",
    "Given the neighborhoods for each planning zone, we will geocode the neighborhood and plot each \n",
    "on a map.  I have built a list for each planning zone that contains entries that correspond to\n",
    "the neighborhoods.  Each entry is either \n",
    "1. A string that will geocode properly and also serves as\n",
    "the name of the neighborhood, or\n",
    "2. A list that contains two elements:\n",
    " 1. the geocode name of the neighborhood, and\n",
    " 1. the name of the neighborhood as given in [[1](https://en.wikipedia.org/wiki/List_of_Philadelphia_neighborhoods)].     \n"
   ],
   "metadata": {
    "collapsed": false,
    "pycharm": {
     "name": "#%% md\n"
    }
   }
  },
  {
   "cell_type": "markdown",
   "source": [
    "For each planning zone, build a list of the corresponding neighborhoods, including\n",
    "a goecode-able neighborhood name if different from the official neighborhood name."
   ],
   "metadata": {
    "collapsed": false,
    "pycharm": {
     "name": "#%% md\n"
    }
   }
  },
  {
   "cell_type": "code",
   "execution_count": 6,
   "outputs": [],
   "source": [
    "# Each list represents a planning zone, and the elements represent neighborhoods in\n",
    "# that planning zone.  If the list element is itself a list, then it is a pair: (geocode name, place name)\n",
    "# where geocode name is the name used for geocoding, and place name is the common name\n",
    "# for the neighborhood.\n",
    "\n",
    "center_city = [\n",
    "    'Avenue of the Arts', 'Callowhill', 'Chinatown', \"Elfreth's Alley\",\n",
    "    [\"18th and Moravian Streets\", \"French Quarter\"], \"Logan Square\", \"Naval Square\", \n",
    "    \"Jewelers' Row\", [\"Indepenence Hall\", \"Market East\"], \"Old City\", \n",
    "    [\"North 22nd Street & Benjamin Franklin Parkway\", \"Museum District\"], \"Penn Center\",\n",
    "    \"Rittenhouse Square\", \"Fitler Square\", \"Penn's Landing\", \"Society Hill\", \"South Street\",\n",
    "    \"Washington Square West\"    \n",
    "]\n",
    "\n",
    "south_phila = [\n",
    "    'Bella Vista', [\"12th and Daly Street\", 'Central South Philadelphia'],\n",
    "    \"Devil's Pocket\", \"Dickinson Square West\", \"East Passyunk Crossing\",\n",
    "    \"Franklin Delano Roosevelt Park\", \"Girard Estate\", \n",
    "    [\"7th and Dudley Streets\", \"Greenwich 4th to 9th Streets, Mifflin to Snyder\"],\n",
    "    \"Grays Ferry\", \"Hawthorne\", \"Italian Market 9th Street\", \n",
    "    [\"Washington Ave & 8th Street\", \"Little Saigon\"], \"Lower Moyamensing\", \"Marconi Plaza\",\n",
    "    \"Moyamensing\", [\"Tasker & 16th Streets\", \"Newbold Heights\"], \"Packer Park\",\n",
    "    \"Passyunk Square\", \"Pennsport\", \"Point Breeze\", \"Queen Village\", \"Schuylkill\",\n",
    "    \"South Philadelphia Sports Complex\", \"Tasker\", \"Wharton\", \"Whitman\", \"Wilson Park\",\n",
    "    \"West Passyunk\", \"Southwark\", \"Graduate Hospital\"\n",
    "]\n",
    "\n",
    "southwest_phila = [\n",
    "    \"Angora\", \"Bartram Village\",  [\"80th Street & Pompey Pl\", \"Clearview\"], \n",
    "    \"Kingsessing\", \"Eastwick\", \"Elmwood Park\", [\"S 84th St & Lyons Pl\", \"Hedgerow\"], \n",
    "    [\"61st Street & Kingsessing Ave\", \"Mount Moriah\"],  \"Paschall\", \n",
    "    \"Philadelphia International Airport\", \"Penrose\", \"Southwest Schuylkill\", \"Hog Island\"\n",
    "]\n",
    "\n",
    "west_phila = [\n",
    "    \"Belmont Village\", \"Carroll Park\",  [\"Kershaw & 51st Street\", \"Cathedral Park\"], \n",
    "    \"Cedar Park\",  [\"Philadelphia Zoo\", \"Centennial District\"],  \"Dunlap\", \"Garden Court\", \n",
    "    \"Haddington\", \"Haveford North\", \"Mantua\", \"Mill Creek\", \"Overbrook\", \"Overbrook Park\",\n",
    "    \"Overbrook Farms\", \"Parkside\", \"Powelton Village\", \"Saunders Park\", \"Spruce Hill\", \n",
    "    [\"49th Street & Kingsessing Ave\", \"Squirrel Hill\"], \"University City\", \"Walnut Hill\", \n",
    "    \"Woodland Terrace\", \"Wynnefield Heights\", \"Cobbs Creek\", \"Wynnefield\"\n",
    "]\n",
    "\n",
    "lower_north_phila = [\n",
    "    \"Brewerytown\", \"Cecil B. Moore\", \"Hartranft\", \"Ludlow\", \"Poplar\", \"Sharswood\", \n",
    "    \"Spring Garden\", [\"Diamond & 21st Street\", \"Stanton\"],  \"Strawberry Mansion\", \"Yorktown\", \n",
    "    \"Fairmount\", \"Northern Liberties\"\n",
    "]\n",
    "\n",
    "\n",
    "upper_north_phila = [\n",
    "    \"Allegheny West\", \"Fairhill\", \"Glenwood\", \"Hunting Park\", \"Nicetown-Tioga\"\n",
    "]\n",
    "\n",
    "bridesburg_kensington_port_richmond = [\n",
    "    \"Bridesburg\", \"Fishtown\", \"Harrowgate\", \"Kensington\", \"South Kensington\", \n",
    "    [\"Emerald & Firth Street\", \"East Kensington\"], \"West Kensington\", \"Port Richmond\"\n",
    "]\n",
    "\n",
    "roxburough_manayunk = [\n",
    "    'Andorra', 'East Falls', 'Wissahickon', 'Roxborough', 'Manayunk'\n",
    "]\n",
    "\n",
    "germantown_chestnut_hill = [\n",
    "    'Chestnut Hill', 'Mount Airy', 'Germantown', 'Morton', 'Wister', 'Cedarbrook'\n",
    "]\n",
    "\n",
    "olney_oak_lane = [\n",
    "    'East Oak Lane', 'Feltonville', 'Fern Rock', ['N 5th Street & W Fisher Ave', 'Koreatown'], \n",
    "    'Logan', ['Sharpless Rd & Valley Rd', 'Melrose Park'], 'Ogontz', 'Olney', 'West Oak Lane'\n",
    "]\n",
    "\n",
    "near_northeast_phila = [\n",
    "    'Burholme', 'Castor Garden', 'Crecentville', 'Fox Chase', 'Frankford', 'Holmesburg', 'Juniata', \n",
    "    'Lawncrest', 'Lawndale', 'Lexington Park', 'Mayfair', 'Northwood', 'Oxford Circle', \n",
    "    'Rhawnhurst', 'Ryers', 'Tacony', 'Wissinoming'\n",
    "]\n",
    "\n",
    "far_northeast_phila = [\n",
    "    'Academy Gardens', \"Ashton-Woodenbridge\", 'Bustleton', 'Byberry', 'Crestmont Farms', \n",
    "    'Krewstown', 'Millbrook', 'Modena Park', 'Morrell Park', 'Normandy', \n",
    "    ['Academy Road & Byberry Road', 'Parkwood'], 'Pennypack', 'Somerton', 'Torresdale', \n",
    "    'Upper Holmesburg', 'Winchester Park'\n",
    "]\n",
    "\n",
    "# aggregate all of the lists\n",
    "# entries here are pairs (zone name, neighborhoods)\n",
    "\n",
    "all_phila = [\n",
    "    [\"Center City\", center_city], [\"South Philadelphia\", south_phila], \n",
    "    [\"Southwest Philadelphia\", southwest_phila], [\"West Philadelphia\", west_phila], \n",
    "    [\"Lower North Philadelphia\", lower_north_phila], [\"Upper North Philadelphia\", upper_north_phila], \n",
    "    [\"Bridesburg-Kensington-Port Richmond\", bridesburg_kensington_port_richmond], \n",
    "    [\"Roxborough-Manayunk\", roxburough_manayunk],\n",
    "    [\"Germantown-Chestnut Hill\", germantown_chestnut_hill], \n",
    "    [\"Olney-Oak Lane\", olney_oak_lane], \n",
    "    [\"Near Northeast Philadelphia\", near_northeast_phila],\n",
    "    [\"Far Northeast Philadelphia\", far_northeast_phila]\n",
    "]\n"
   ],
   "metadata": {
    "collapsed": false,
    "pycharm": {
     "name": "#%%\n",
     "is_executing": false
    }
   }
  },
  {
   "cell_type": "markdown",
   "source": [
    "Construct some helper functions to:\n",
    "- plot all the neighborhoods in a planning zone, and\n",
    "- plot all planning zones"
   ],
   "metadata": {
    "collapsed": false,
    "pycharm": {
     "name": "#%% md\n"
    }
   }
  },
  {
   "cell_type": "code",
   "execution_count": 4,
   "outputs": [],
   "source": [
    " \n",
    "import geocoder\n",
    "import folium\n",
    "\n",
    "# function to geocode and plot neighborhoods in a single planning zone on a map\n",
    "\n",
    "def plot_neighborhoods(zone_name, places, color, m=None):\n",
    "    if m is None:\n",
    "        m = folium.Map([39.966,-75.1586])\n",
    "    # c will hold the centroid of the neighborhoods, \n",
    "    # which will stand for the location of the planning zone\n",
    "    c = [0,0]\n",
    "    k = 0\n",
    "    for n in places:\n",
    "        if isinstance(n, list):\n",
    "            label = n[1]\n",
    "            n = n[0]\n",
    "        else:\n",
    "            label = n\n",
    "        place = '{}, Philadelphia, PA'.format(n)\n",
    "        g = geocoder.arcgis(place)\n",
    "        data = g.geojson['features'][0]['properties']\n",
    "        lat,lng = data['lat'],data['lng']\n",
    "        folium.CircleMarker((lat,lng), tooltip=label, color=color, radius=5, fill=True).add_to(m)\n",
    "        c[0] += lat\n",
    "        c[1] += lng\n",
    "        k += 1\n",
    "    c[0] = c[0] / k\n",
    "    c[1] = c[1] / k\n",
    "    folium.CircleMarker(location=c, color=color, radius=10, fill=True, tooltip=zone_name).add_to(m)\n",
    "    return m\n",
    "\n",
    "\n",
    "# plot all neighborhoods, when the dataframes are not passed, geocode the names\n",
    "# otherwise, the dataframes will provide all the necessary data for plotting \n",
    "\n",
    "def plot_all_neighborhoods(zone_df=None, neighborhood_df=None):\n",
    "    colors = ['red', 'darkblue', 'gray', 'green', 'blue', 'purple',\n",
    "              'darkred', 'darkgray', 'cadetblue', 'darkgreen', 'orange', 'black']\n",
    "    the_map = None\n",
    "    if zone_df is None and neighborhood_df is None:\n",
    "        # geocode and plot each neighborhood\n",
    "        for c,n in enumerate(all_phila):\n",
    "            the_map = plot_neighborhoods(n[0], n[1], colors[c], the_map)\n",
    "    else:\n",
    "        # plot directly\n",
    "        the_map = folium.Map([39.966,-75.1586]) \n",
    "        for zid, zname, zlat, zlng in zip(zone_df['zone_id'], zone_df['zone_name'], zone_df['latitude'], zone_df['longitude']):\n",
    "            folium.CircleMarker((zlat,zlng), color=colors[zid-1], radius=10, fill=True, tooltip=zname).add_to(the_map)\n",
    "            for label, lat, lng in nbhood_df.loc[nbhood_df['zone_id'] == zid, ['neighborhood_name', 'latitude', 'longitude']].values:\n",
    "                folium.CircleMarker((lat,lng), tooltip=label, color=colors[zid-1], radius=5, fill=True).add_to(the_map)       \n",
    "    return the_map"
   ],
   "metadata": {
    "collapsed": false,
    "pycharm": {
     "name": "#%%\n",
     "is_executing": false
    }
   }
  },
  {
   "cell_type": "markdown",
   "source": [
    "I temporarily used the plotting below to fine tune the geocode data so that the locations were accurate.\n",
    "Once the geocode data was verified, I persisted the data in the dataframes below.  The code cell below \n",
    "is no longer necessary or recommended."
   ],
   "metadata": {
    "collapsed": false
   }
  },
  {
   "cell_type": "code",
   "execution_count": 26,
   "outputs": [],
   "source": [
    "# draw the plot based on geocoding the names in the planning zone lists\n",
    "# m = plot_all_neighborhoods()\n",
    "# m"
   ],
   "metadata": {
    "collapsed": false,
    "pycharm": {
     "name": "#%%\n",
     "is_executing": false
    }
   }
  },
  {
   "cell_type": "markdown",
   "source": [
    "## 3. Build the Dataframes\n",
    "Once the neighborhood plot looks accurate and we are confident in our data quality, build and persist the dataFrames\n",
    "so that we can process efficiently."
   ],
   "metadata": {
    "collapsed": false,
    "pycharm": {
     "name": "#%% md\n",
     "is_executing": false
    }
   }
  },
  {
   "cell_type": "markdown",
   "source": [
    "### 3.1 Dataframes for Planning Zone, Neighborhood and Venues"
   ],
   "metadata": {
    "collapsed": false,
    "pycharm": {
     "name": "#%% md\n"
    }
   }
  },
  {
   "cell_type": "code",
   "execution_count": 2,
   "outputs": [],
   "source": [
    "import geocoder\n",
    "import pandas as pd\n",
    "import requests\n",
    "\n",
    "\n",
    "# build the planning zone dataframe\n",
    "\n",
    "def build_zone_dataframe():\n",
    "    zone_id = []\n",
    "    zone_name = []\n",
    "\n",
    "    for idx,r in enumerate(all_phila, start=1):\n",
    "        zone_id.append(idx)\n",
    "        zone_name.append(r[0])\n",
    "    zone_df = pd.DataFrame({\n",
    "        \"zone_id\": zone_id,\n",
    "        \"zone_name\": zone_name\n",
    "    })\n",
    "    zone_df.to_pickle('./planning_zones.gz')\n",
    "\n",
    "\n",
    "# build the neighborhood dataframe, and update the planning zone dataframe with the \n",
    "# coordinates of the centroid of the neighborhoods in the planning zone.\n",
    "\n",
    "def build_neighborhood_dataframe():\n",
    "    idx = 1\n",
    "    zone_id = []\n",
    "    nbhood_id = []\n",
    "    nbhood_name = []\n",
    "    lat = []\n",
    "    lng = []\n",
    "    zone_df = pd.read_pickle('./planning_zones.gz')\n",
    "    zone_lat = []\n",
    "    zone_lng = []\n",
    "    for zone in all_phila:\n",
    "        zid = zone_df.loc[zone_df['zone_name'] == zone[0], 'zone_id'].values[0]\n",
    "        zone_center = [0,0]\n",
    "        for n in zone[1]:\n",
    "            \n",
    "            if isinstance(n, list):\n",
    "                name = n[1]\n",
    "                geo_name = n[0]\n",
    "            else:\n",
    "                name = n\n",
    "                geo_name = n\n",
    "                \n",
    "            g = geocoder.arcgis(geo_name + ', Philadelphia, PA')\n",
    "            data = g.geojson['features'][0]['properties']\n",
    "\n",
    "            zone_id.append(zid)            \n",
    "            nbhood_id.append(idx)\n",
    "            nbhood_name.append(name)\n",
    "            lat.append(data['lat'])\n",
    "            lng.append(data['lng'])\n",
    "            zone_center[0] += data['lat']\n",
    "            zone_center[1] += data['lng']\n",
    "            idx += 1\n",
    "        zone_center[0] = zone_center[0] / len(zone[1])\n",
    "        zone_center[1] = zone_center[1] / len(zone[1])\n",
    "        zone_lat.append(zone_center[0])\n",
    "        zone_lng.append(zone_center[1])\n",
    "            \n",
    "    nbhood_df = pd.DataFrame({\n",
    "        \"zone_id\": zone_id, \n",
    "        \"neighborhood_id\": nbhood_id, \n",
    "        \"neighborhood_name\": nbhood_name,\n",
    "        \"latitude\": lat,\n",
    "        \"longitude\": lng\n",
    "    })\n",
    "    nbhood_df.to_pickle('./neighborhoods.gz')\n",
    "    zone_df['latitude'] = zone_lat\n",
    "    zone_df['longitude'] = zone_lng\n",
    "    zone_df.to_pickle('./planning_zones.gz')\n",
    "\n",
    "\n",
    "# build the venue dataframe suing the FourSquare API\n",
    "\n",
    "def build_venue_dataframe():\n",
    "    client_id = 'VUKHKNADL1KYMIMDT5L5LOWWUSSFZEJZZHGGD0Q1WUL3NZCP'\n",
    "    client_secret = '1KRPTNYDVTS34LJ41IHKHJKOPVIW4FX501NLLH0NCYDXVAHA'\n",
    "    radius = 1000\n",
    "    limit = 100   \n",
    "\n",
    "    base_url = url = 'https://api.foursquare.com/v2/venues/search?ll={},{}&intent=checkin&radius={}&client_id={}&client_secret={}&v={}&limit={}'\n",
    "\n",
    "    \n",
    "    zone_df = pd.read_pickle('./planning_zones.gz')\n",
    "    nbhood_df = pd.read_pickle('./neighborhoods.gz')\n",
    "    combined = zone_df.merge(nbhood_df, on=\"zone_id\")\n",
    "    idx = 1\n",
    "    venue_id = []\n",
    "    nbhood_id = []\n",
    "    cat_name = []\n",
    "    venue_name = []\n",
    "    for zid, zname, nid, nname, lat, lng in zip(combined['zone_id'], combined['zone_name'], combined['neighborhood_id'], combined['neighborhood_name'], combined['latitude'], combined['longitude']):\n",
    "        url = base_url.format(lat, lng, radius, client_id, client_secret, 20191220, limit)\n",
    "        response = requests.get(url)\n",
    "        venues = response.json()['response']['venues']\n",
    "        for v in venues:\n",
    "            vname = v['name']\n",
    "            distance = v['location']['distance']\n",
    "            in_range = distance < radius\n",
    "            if in_range:\n",
    "                for c in v['categories']:\n",
    "                    if not c['primary']:\n",
    "                        continue\n",
    "                    else:\n",
    "                        venue_id.append(idx)\n",
    "                        nbhood_id.append(nid)\n",
    "                        cat_name.append(c['name'])\n",
    "                        venue_name.append(vname)\n",
    "                        idx += 1\n",
    "    venue_df = pd.DataFrame({\n",
    "        'venue_id': venue_id,\n",
    "        'neighborhood_id': nbhood_id,\n",
    "        'venue_name': venue_name,\n",
    "        'category_name': cat_name\n",
    "    })\n",
    "    venue_df.to_pickle('./venues.gz')"
   ],
   "metadata": {
    "collapsed": false,
    "pycharm": {
     "name": "#%%\n",
     "is_executing": false
    }
   }
  },
  {
   "cell_type": "markdown",
   "source": [
    "The **venues** dataframe depends on **neighborhoods** dataframe, which in turn depends on **planning \n",
    "zones** dataframe, so they must be built in the order specified.  The dataframes are persisted to the\n",
    "following names:\n",
    "- planning_zones.gz\n",
    "- neighborhoods.gz\n",
    "- venues.gz"
   ],
   "metadata": {
    "collapsed": false,
    "pycharm": {
     "name": "#%% md\n"
    }
   }
  },
  {
   "cell_type": "code",
   "execution_count": null,
   "outputs": [],
   "source": [
    "def build_dataframes():\n",
    "    build_zone_dataframe()\n",
    "    build_neighborhood_dataframe()\n",
    "    build_venue_dataframe()\n",
    "\n",
    "# uncomment the line below if you need to rebuild the dataframes otherwise just read the persisted data.\n",
    "\n",
    "#build_dataframes()"
   ],
   "metadata": {
    "collapsed": false,
    "pycharm": {
     "name": "#%%\n"
    }
   }
  },
  {
   "cell_type": "markdown",
   "source": [
    "The code cell below shows how to load the persisted dataframes, and how to plot the neighborhood and planning zone \n",
    "data using the functions built above."
   ],
   "metadata": {
    "collapsed": false,
    "pycharm": {
     "name": "#%% md\n"
    }
   }
  },
  {
   "cell_type": "code",
   "execution_count": 8,
   "outputs": [],
   "source": [
    "import pandas as pd\n",
    "\n",
    "\n",
    "# load the dataframes\n",
    "zone_df = pd.read_pickle('./planning_zones.gz')\n",
    "nbhood_df = pd.read_pickle('./neighborhoods.gz')\n",
    "\n",
    "# plot the map\n",
    "m = plot_all_neighborhoods(zone_df, nbhood_df)\n",
    "m.save('nbhood_1.html')\n",
    "#m"
   ],
   "metadata": {
    "collapsed": false,
    "pycharm": {
     "name": "#%% \n",
     "is_executing": false
    }
   }
  },
  {
   "cell_type": "markdown",
   "source": [
    "### 3.2 Build Venue Category Groups\n",
    "\n",
    "The fine grained venue categories leads to a situation where we overlook similarity\n",
    "because we are considering very fine detail.  Restaurant categories cover\n",
    "a wide variety of dining establishments -- there are literally dozens of ethnic \n",
    "choices for example.  So while no one will deny that a _steakhouse_ is different from\n",
    "a _vegan_ restaurant, there is a certain similarity from a neighborhood perspective in\n",
    "neighborhoods where restaurants are common, even dissimilar restaurants.\n",
    "\n",
    "In the next phase of processing, we associate venue categories into groups: restaurants,\n",
    "bars, parks, theaters, sporting venues, retail establishments, medical services, etc.\n",
    "Finally, we create a map that will return the category groups associated with a venue category."
   ],
   "metadata": {
    "collapsed": false,
    "pycharm": {
     "name": "#%% md\n"
    }
   }
  },
  {
   "cell_type": "code",
   "execution_count": 4,
   "outputs": [],
   "source": [
    "import re\n",
    "import pandas as pd\n",
    "\n",
    "# simple class to hold a category group name, regex and list of matched venue categories\n",
    "\n",
    "class CategorySearch(object):\n",
    "    def __init__(self, name, regex):\n",
    "        self.name = name\n",
    "        self.regex = regex\n",
    "        self.venues = list()\n",
    "\n",
    "\n",
    "# define category_groups and a place to store results  \n",
    "\n",
    "category_groups = [\n",
    "    CategorySearch('Bars', \n",
    "        'bar$|pub$|irish pub|speakeasy|nightclub|nightlife|(salsa|social|strip) club'),\n",
    "    \n",
    "    CategorySearch('Restaurants', \n",
    "        'tea room|creperie|gastropub|^café$|bistro|restaurant|joint|diner|food|place|fish & chips shop|breakfast spot|noodle house|steakhouse|cafeteria'),\n",
    "    \n",
    "    CategorySearch('Houses of Worship',\n",
    "        'mosque|temple|church|synagogue|kingdom hall|prayer room|shrine|spiritual center|monastery'),\n",
    "    \n",
    "    CategorySearch('Parks', \n",
    "        'park(\\s+|$)|playground|pool'),\n",
    "    \n",
    "    CategorySearch('Theaters & Music Halls', \n",
    "        'multiplex|theater|concert hall|opera house|music venue|performing|rock club|auditorium|jazz club'),\n",
    "    \n",
    "    CategorySearch('Education', \n",
    "        'school|college|daycare|university|fraternity|sorority|student center'),\n",
    "    \n",
    "    CategorySearch('Lodging & Travel',\n",
    "        'hotel|motel|bed & breakfast|vacation rental|gas station|travel|hostel|rental car|resort|tour provider|tourist|rest area'),\n",
    "\n",
    "    CategorySearch('Sports Venue',\n",
    "        'football|boxing|bowling|baseball|basketball|cricket|hockey|stadium|racetrack|rugby|skating|ski|soccer|sports club|tennis|volleyball|bike trail|roller rink|skate park|athletics|golf course|gun range'),\n",
    "\n",
    "    CategorySearch('Transportation',\n",
    "        'airport|bus\\s+(line|station|stop)|cable car|light rail station|metro station|train station|transport|baggage claim|boat|ferry'),\n",
    "\n",
    "    CategorySearch('Fitness & Well Being',\n",
    "        'massage|gym|martial arts dojo|acupuncturist|alternative healer|chiropractor|supplement|weight loss|yoga|pilates|dispensery|dance studio|recreation center'),\n",
    "\n",
    "    CategorySearch('Medical Care',\n",
    "        'medical|dentist|doctor|emergency room|hospital|mental health|pharmacy|physical therap|rehab center|urgent care|maternity clinic'),\n",
    "\n",
    "    CategorySearch('Animals & Pets',\n",
    "        'animal shelter|(dog (run|park))|(pet (caf|service|store))|stables|veterinarian|zoo'),\n",
    "    \n",
    "    CategorySearch('Art & Museum',\n",
    "        '(art (gallery|museum|studio))|botanical garden|garden|sculpture|fountain|planetarium|(public|street) art|((science|history)\\s+)?museum|arts & entertainment|cultural center'),\n",
    "\n",
    "    CategorySearch('Auto',\n",
    "        '(auto |(garage|dealership|workshop))|automotive shop|car wash|shopping|mall'),\n",
    "    \n",
    "    CategorySearch('Retail',\n",
    "        'store| shop|boutique|butcher|bakery|grocery|market|deli|dry cleaner|shoe repair|newsstand|(gaming|internet) cafe|laundromat'),\n",
    "    \n",
    "    CategorySearch('Beer/Wine/Liquor',\n",
    "        'beer store|brewery|distillery|liquor|vineyard|winery|wine shop'),\n",
    "    \n",
    "    CategorySearch('Outdoors',\n",
    "        'beach|campground|fair|farm|field|harbor|marina|hot spring|island|lake|lighthouse|monument|landmark|mountain|outdoors|river|scenic lookout|surf spot|trail|waterfront|historic site|summer camp|memorial site|bike (rental|share)|cemetery|track'),\n",
    "    \n",
    "    CategorySearch('Government Services',\n",
    "        'capitol building|city hall|courthouse|fire station|government building|military base|notary|police station|post office|voting booth|campaign office|library|(recycling|waste) facility'),\n",
    "    \n",
    "    CategorySearch('Beauty',\n",
    "       'spa$|beauty|(nail|tanning) salon|^salon|tattoo parlor'),\n",
    "\n",
    "    CategorySearch('ATM/Banks',\n",
    "        'atm|bank|check cashing service|credit union|currency exchange'),\n",
    "    \n",
    "    CategorySearch('Media Outlet',\n",
    "        'advertising|recording studio|tv station|radio station'),\n",
    "\n",
    "    CategorySearch('Residential',\n",
    "        'assisted living|housing development|apartment|condo|residential|community center'),\n",
    "\n",
    "    CategorySearch('Commercial', \n",
    "        '(business (center|services))|conference room|convention center|coworking space|event service|event space|(financial|legal|home) service|insurance office|lawyer|locksmith|meeting room|non-profit|office|real estate office|storage facility|tech startup|warehouse|casino|construction|landscaping|distribution|factory|funeral home|it services|laundry service|photography (studio|lab)')\n",
    "]\n",
    "\n",
    "# a place to hold the ungrouped venue categories\n",
    "\n",
    "ungrouped = []\n",
    "\n",
    "venue_df = pd.read_pickle('./venues.gz')\n",
    "\n",
    "f = venue_df['category_name'].unique()\n",
    "for i, v in enumerate(sorted(f), start=1):\n",
    "    # for all unique venue category names\n",
    "    processed = False\n",
    "    for c in category_groups:\n",
    "        # check that it matches a category group\n",
    "        if re.search(c.regex, v, flags=re.IGNORECASE) is not None:\n",
    "            c.venues.append(v)\n",
    "            processed = True\n",
    "    if not processed:\n",
    "        ungrouped.append(v)\n",
    "\n",
    "# create a map to lookup the group name(s) associated with a venue category    \n",
    "\n",
    "group_map = {}\n",
    "for i,g in enumerate(category_groups, start=1):\n",
    "    for e in g.venues:\n",
    "        if e not in group_map:\n",
    "            group_map[e] = list()\n",
    "        group_map[e].append(g.name)"
   ],
   "metadata": {
    "collapsed": false,
    "pycharm": {
     "name": "#%%\n",
     "is_executing": false
    }
   }
  },
  {
   "cell_type": "markdown",
   "source": [
    "### 3.3 Assemble the Feature Dataframe"
   ],
   "metadata": {
    "collapsed": false,
    "pycharm": {
     "name": "#%% md\n"
    }
   }
  },
  {
   "cell_type": "markdown",
   "source": [
    "The features we will use to cluster the neighborhoods are the venue category names and group names.\n",
    "We will construct a list of feature names from the unique values of the category and group names, and we will\n",
    "construct a feature map that will map a feature name to an index in the vector of feature values."
   ],
   "metadata": {
    "collapsed": false
   }
  },
  {
   "cell_type": "code",
   "execution_count": 5,
   "outputs": [],
   "source": [
    "import pandas as pd\n",
    "\n",
    "# read the venues dataframe\n",
    "\n",
    "venues_df = pd.read_pickle('./venues.gz')\n",
    "\n",
    "# get the unique feature names and build the feature map\n",
    "\n",
    "feature_names = list(venues_df['category_name'].unique()) + list(map(lambda t: t.name, category_groups))\n",
    "feature_map = {}\n",
    "\n",
    "for i,name in enumerate(feature_names, start=0):\n",
    "    feature_map[name] = i"
   ],
   "metadata": {
    "collapsed": false,
    "pycharm": {
     "name": "#%%\n",
     "is_executing": false
    }
   }
  },
  {
   "cell_type": "markdown",
   "source": [
    "Our data set is a set of rows consisting of the pair **(neighborhood id, venue category/group name)**.  \n",
    "We need to group these and count the occurrences of each unique (neighborhood id, category name) pair.  \n",
    "We also need to count the total number of venues in each neighborhood.  We will build up a list of tuples\n",
    "consisting of **(neighborhood id, category name, count of venues in category, total venues in neighborhood)**    "
   ],
   "metadata": {
    "collapsed": false,
    "pycharm": {
     "name": "#%% md\n"
    }
   }
  },
  {
   "cell_type": "code",
   "execution_count": 3,
   "outputs": [],
   "source": [
    "# group the venues dataframe two ways to get the grouped counts\n",
    "\n",
    "df_N = venues_df.groupby(['neighborhood_id'], as_index=False).count()\n",
    "df_CN = venues_df.groupby(['neighborhood_id', 'category_name'], as_index=False).count()\n",
    "\n",
    "venue_groups = []\n",
    "stats = []\n",
    "for nid, catname, count in zip(df_CN['neighborhood_id'], df_CN['category_name'], df_CN['venue_id']):\n",
    "    total = df_N.loc[df_N['neighborhood_id'] == nid, 'category_name'].values[0]\n",
    "    stats.append((nid, catname, count, total))\n",
    "    \n",
    "    # build a list of category group names, which we will summarize and add to stats later\n",
    "    \n",
    "    gg = group_map[catname] if catname in group_map else None\n",
    "    if gg is not None:\n",
    "        for g in gg:\n",
    "            venue_groups.append((nid, g))\n",
    "\n",
    "# build a temporary dataframe for the venue groups, quite similar to the venue dataframe\n",
    "\n",
    "tmp_df = pd.DataFrame({\n",
    "    'neighborhood_id': map(lambda q: q[0], venue_groups),\n",
    "    'category_group': map(lambda q: q[1], venue_groups),\n",
    "    'data': [0]*len(venue_groups)\n",
    "})\n",
    "\n",
    "# repeat the venue groupings with the group names, and add the remaining stats\n",
    "\n",
    "df_N = tmp_df.groupby(['neighborhood_id'], as_index=False).count()\n",
    "df_CN = tmp_df.groupby(['neighborhood_id', 'category_group'], as_index=False).count()\n",
    "for nid, cg, num in zip(df_CN['neighborhood_id'], df_CN['category_group'], df_CN['data']):\n",
    "    total = df_N.loc[df_N['neighborhood_id'] == nid, 'data'].values[0]\n",
    "    stats.append((nid, cg, num, total))\n",
    "\n",
    "# build and save a stats dataframe\n",
    "\n",
    "stats_df = pd.DataFrame({\n",
    "    'neighborhood_id': map(lambda t: t[0], stats),\n",
    "    'category_group' : map(lambda t: t[1], stats),\n",
    "    'count'          : map(lambda t: t[2], stats),\n",
    "    'total'          : map(lambda t: t[3], stats),\n",
    "})\n",
    "\n",
    "stats_df.to_pickle('./neighborhood_raw_stats.gz')"
   ],
   "metadata": {
    "collapsed": false,
    "pycharm": {
     "name": "#%%\n",
     "is_executing": false
    }
   }
  },
  {
   "cell_type": "markdown",
   "source": [
    "Process the stats rows into an encoded dataframe where each row represents a neighborhood, and there\n",
    "are columns for each feature with a numeric value of the relative frequency of the feature in that neighborhood.\n",
    "Construct and persist the feature dataframe."
   ],
   "metadata": {
    "collapsed": false,
    "pycharm": {
     "name": "#%% md\n"
    }
   }
  },
  {
   "cell_type": "code",
   "execution_count": 14,
   "outputs": [
    {
     "data": {
      "text/plain": "   neighborhood_id  Vegetarian / Vegan Restaurant  Arts & Crafts Store  \\\n0                1                       0.011236             0.011236   \n1                2                       0.000000             0.000000   \n2                3                       0.010638             0.000000   \n3                4                       0.000000             0.000000   \n4                5                       0.010870             0.000000   \n\n   American Restaurant       Gym     Hotel  Post Office  Building  Non-Profit  \\\n0             0.022472  0.011236  0.011236     0.022472  0.056180    0.044944   \n1             0.000000  0.022222  0.000000     0.000000  0.022222    0.000000   \n2             0.000000  0.010638  0.010638     0.000000  0.010638    0.000000   \n3             0.034091  0.022727  0.022727     0.000000  0.011364    0.011364   \n4             0.021739  0.010870  0.010870     0.000000  0.021739    0.000000   \n\n   Coffee Shop  ...      Auto    Retail  Beer/Wine/Liquor  Outdoors  \\\n0     0.022472  ...  0.000000  0.113208              0.00  0.037736   \n1     0.000000  ...  0.019608  0.078431              0.00  0.019608   \n2     0.000000  ...  0.000000  0.206349              0.00  0.031746   \n3     0.011364  ...  0.000000  0.180000              0.02  0.040000   \n4     0.021739  ...  0.016393  0.377049              0.00  0.016393   \n\n   Government Services    Beauty  ATM/Banks  Media Outlet  Residential  \\\n0             0.113208  0.000000   0.018868      0.018868     0.000000   \n1             0.039216  0.039216   0.000000      0.000000     0.039216   \n2             0.047619  0.015873   0.000000      0.015873     0.015873   \n3             0.000000  0.040000   0.020000      0.000000     0.020000   \n4             0.000000  0.049180   0.016393      0.000000     0.016393   \n\n   Commercial  \n0    0.188679  \n1    0.117647  \n2    0.095238  \n3    0.200000  \n4    0.081967  \n\n[5 rows x 549 columns]",
      "text/html": "<div>\n<style scoped>\n    .dataframe tbody tr th:only-of-type {\n        vertical-align: middle;\n    }\n\n    .dataframe tbody tr th {\n        vertical-align: top;\n    }\n\n    .dataframe thead th {\n        text-align: right;\n    }\n</style>\n<table border=\"1\" class=\"dataframe\">\n  <thead>\n    <tr style=\"text-align: right;\">\n      <th></th>\n      <th>neighborhood_id</th>\n      <th>Vegetarian / Vegan Restaurant</th>\n      <th>Arts &amp; Crafts Store</th>\n      <th>American Restaurant</th>\n      <th>Gym</th>\n      <th>Hotel</th>\n      <th>Post Office</th>\n      <th>Building</th>\n      <th>Non-Profit</th>\n      <th>Coffee Shop</th>\n      <th>...</th>\n      <th>Auto</th>\n      <th>Retail</th>\n      <th>Beer/Wine/Liquor</th>\n      <th>Outdoors</th>\n      <th>Government Services</th>\n      <th>Beauty</th>\n      <th>ATM/Banks</th>\n      <th>Media Outlet</th>\n      <th>Residential</th>\n      <th>Commercial</th>\n    </tr>\n  </thead>\n  <tbody>\n    <tr>\n      <th>0</th>\n      <td>1</td>\n      <td>0.011236</td>\n      <td>0.011236</td>\n      <td>0.022472</td>\n      <td>0.011236</td>\n      <td>0.011236</td>\n      <td>0.022472</td>\n      <td>0.056180</td>\n      <td>0.044944</td>\n      <td>0.022472</td>\n      <td>...</td>\n      <td>0.000000</td>\n      <td>0.113208</td>\n      <td>0.00</td>\n      <td>0.037736</td>\n      <td>0.113208</td>\n      <td>0.000000</td>\n      <td>0.018868</td>\n      <td>0.018868</td>\n      <td>0.000000</td>\n      <td>0.188679</td>\n    </tr>\n    <tr>\n      <th>1</th>\n      <td>2</td>\n      <td>0.000000</td>\n      <td>0.000000</td>\n      <td>0.000000</td>\n      <td>0.022222</td>\n      <td>0.000000</td>\n      <td>0.000000</td>\n      <td>0.022222</td>\n      <td>0.000000</td>\n      <td>0.000000</td>\n      <td>...</td>\n      <td>0.019608</td>\n      <td>0.078431</td>\n      <td>0.00</td>\n      <td>0.019608</td>\n      <td>0.039216</td>\n      <td>0.039216</td>\n      <td>0.000000</td>\n      <td>0.000000</td>\n      <td>0.039216</td>\n      <td>0.117647</td>\n    </tr>\n    <tr>\n      <th>2</th>\n      <td>3</td>\n      <td>0.010638</td>\n      <td>0.000000</td>\n      <td>0.000000</td>\n      <td>0.010638</td>\n      <td>0.010638</td>\n      <td>0.000000</td>\n      <td>0.010638</td>\n      <td>0.000000</td>\n      <td>0.000000</td>\n      <td>...</td>\n      <td>0.000000</td>\n      <td>0.206349</td>\n      <td>0.00</td>\n      <td>0.031746</td>\n      <td>0.047619</td>\n      <td>0.015873</td>\n      <td>0.000000</td>\n      <td>0.015873</td>\n      <td>0.015873</td>\n      <td>0.095238</td>\n    </tr>\n    <tr>\n      <th>3</th>\n      <td>4</td>\n      <td>0.000000</td>\n      <td>0.000000</td>\n      <td>0.034091</td>\n      <td>0.022727</td>\n      <td>0.022727</td>\n      <td>0.000000</td>\n      <td>0.011364</td>\n      <td>0.011364</td>\n      <td>0.011364</td>\n      <td>...</td>\n      <td>0.000000</td>\n      <td>0.180000</td>\n      <td>0.02</td>\n      <td>0.040000</td>\n      <td>0.000000</td>\n      <td>0.040000</td>\n      <td>0.020000</td>\n      <td>0.000000</td>\n      <td>0.020000</td>\n      <td>0.200000</td>\n    </tr>\n    <tr>\n      <th>4</th>\n      <td>5</td>\n      <td>0.010870</td>\n      <td>0.000000</td>\n      <td>0.021739</td>\n      <td>0.010870</td>\n      <td>0.010870</td>\n      <td>0.000000</td>\n      <td>0.021739</td>\n      <td>0.000000</td>\n      <td>0.021739</td>\n      <td>...</td>\n      <td>0.016393</td>\n      <td>0.377049</td>\n      <td>0.00</td>\n      <td>0.016393</td>\n      <td>0.000000</td>\n      <td>0.049180</td>\n      <td>0.016393</td>\n      <td>0.000000</td>\n      <td>0.016393</td>\n      <td>0.081967</td>\n    </tr>\n  </tbody>\n</table>\n<p>5 rows × 549 columns</p>\n</div>"
     },
     "metadata": {},
     "output_type": "execute_result",
     "execution_count": 14
    }
   ],
   "source": [
    "# read the stats_df\n",
    "\n",
    "stats_df = pd.read_pickle('./neighborhood_raw_stats.gz')\n",
    "\n",
    "# process the stats into well formed rows with columns for all of the features\n",
    "\n",
    "rows = {}\n",
    "for nid,cname,num,tot in stats_df.sort_values(by=['neighborhood_id', 'category_group']).to_numpy():\n",
    "    if nid not in rows:\n",
    "        rows[nid] = [0]*len(feature_names)\n",
    "    idx = feature_map[cname]\n",
    "    rows[nid][idx] = num/tot\n",
    "\n",
    "\n",
    "# build and save the feature dataframe\n",
    "\n",
    "feature_df = pd.DataFrame(list(map(lambda q: [q]+rows[q], rows.keys())), columns=['neighborhood_id'] + feature_names)\n",
    "feature_df.to_pickle('./features.gz')\n",
    "feature_df.head()"
   ],
   "metadata": {
    "collapsed": false,
    "pycharm": {
     "name": "#%%\n",
     "is_executing": false
    }
   }
  },
  {
   "cell_type": "markdown",
   "source": [
    "## 4. Prepare and Run k-Means Clustering on the Feature Dataframe"
   ],
   "metadata": {
    "collapsed": false,
    "pycharm": {
     "name": "#%% md\n"
    }
   }
  },
  {
   "cell_type": "markdown",
   "source": [
    "### 4.1 Data Scaling\n",
    "The data is prepared for k-means analysis at this point.  The first step is to strip the neighborhood id labels\n",
    "from the dataframe, and run the resulting dataframe through a standard scaler."
   ],
   "metadata": {
    "collapsed": false,
    "pycharm": {
     "name": "#%% md\n"
    }
   }
  },
  {
   "cell_type": "code",
   "execution_count": 12,
   "outputs": [],
   "source": [
    "%matplotlib inline\n",
    "\n",
    "import pandas as pd\n",
    "import numpy as np\n",
    "from sklearn.cluster import KMeans\n",
    "from sklearn.preprocessing import StandardScaler\n",
    "import matplotlib.pyplot as plt\n",
    "\n",
    "# prepare and scale the feature data\n",
    "\n",
    "features_df = pd.read_pickle('./features.gz')\n",
    "unscaled_df = features_df.drop(columns=['neighborhood_id'])\n",
    "scaler = StandardScaler()\n",
    "scaler.fit(unscaled_df)\n",
    "scaled_df = scaler.transform(unscaled_df)"
   ],
   "metadata": {
    "collapsed": false,
    "pycharm": {
     "name": "#%%\n",
     "is_executing": false
    }
   }
  },
  {
   "cell_type": "markdown",
   "source": [
    "### 4.2 Find a Good k\n",
    "Run the k-means analysis for k ranging from 1 to 50 and collect the clustering performance results."
   ],
   "metadata": {
    "collapsed": false,
    "pycharm": {
     "name": "#%% md\n"
    }
   }
  },
  {
   "cell_type": "code",
   "execution_count": 3,
   "outputs": [],
   "source": [
    "from sklearn.cluster import KMeans\n",
    "\n",
    "# collect results for k = 1 to 50 \n",
    "\n",
    "k_range = range(1,51)\n",
    "results = []\n",
    "for k in k_range:\n",
    "    kmeans = KMeans(init='k-means++', n_clusters=k, random_state=0).fit(scaled_df)\n",
    "    results.append([k, kmeans.inertia_])"
   ],
   "metadata": {
    "collapsed": false,
    "pycharm": {
     "name": "#%%\n",
     "is_executing": false
    }
   }
  },
  {
   "cell_type": "markdown",
   "source": [
    "Below is a table of the k-means performance metric for the range of k tested.  The third and fourth\n",
    "columns are the first and second derivatives of the curve at k.  These represent the slope and \n",
    "the rate of change of the slope respectively. \n",
    "   \n",
    "We are looking for the elbow point, where the slope goes from steep to shallow, and the\n",
    "change in slope has a small magnitude."
   ],
   "metadata": {
    "collapsed": false,
    "pycharm": {
     "name": "#%% md\n"
    }
   }
  },
  {
   "cell_type": "code",
   "execution_count": 4,
   "outputs": [
    {
     "name": "stdout",
     "text": [
      "[1, 89872.00000000006]\n",
      "[2, 88286.97263773867] -1039.480712419514 272.77332492093774\n",
      "[3, 87793.03857516103] -999.0146509859842 -252.54029420417282\n",
      "[4, 86288.9433357667] -1266.6852667685816 118.7049863128741\n",
      "[5, 85259.66804162387] -1131.6315426412402 -51.17812424920339\n",
      "[6, 84025.68025048422] -966.5038003045556 133.7419954175457\n",
      "[7, 83326.66044101476] -911.9725291081122 -106.47635981932399\n",
      "[8, 82201.735192268] -1109.5090668683697 7.708090939195245\n",
      "[9, 81107.64230727802] -836.2412227863533 128.92583110181295\n",
      "[10, 80529.25274669529] -702.193184389922 -61.90181190359726\n",
      "[11, 79703.25593849817] -1038.9898775242327 -106.49653466355812\n",
      "[12, 78451.27299164682] -1057.5751796942131 97.20388357856791\n",
      "[13, 77588.10557910975] -928.0569563437821 -32.444771903352375\n",
      "[14, 76595.15907895926] -1325.0270040969917 -166.04025197325245\n",
      "[15, 74938.05157091576] -1067.820629214024 294.64343941473635\n",
      "[16, 74459.51782053121] -682.9158608180514 -102.1910552167501\n",
      "[17, 73572.21984927966] -913.7494785068848 -13.225753627666563\n",
      "[18, 72632.01886351744] -829.3162602791199 55.442362741549005\n",
      "[19, 71913.58732872142] -669.8008953819517 24.315319707035087\n",
      "[20, 71292.41707275354] -1369.8440706572583 -374.33690734468837\n",
      "[21, 69173.8991874069] -1604.415901475426 257.05099193560454\n",
      "[22, 68083.58526980269] -961.5778534994824 64.3680320523672\n",
      "[23, 67250.74348040794] -1029.6420000647122 -98.40010533498207\n",
      "[24, 66024.30126967326] -825.7959335474443 200.32313859361602\n",
      "[25, 65599.15161331305] -696.694747073303 -135.7725453565472\n",
      "[26, 64630.911775526656] -773.5096777715116 97.36508000744107\n",
      "[27, 64052.13225777003] -633.2644361848143 -27.242459214092378\n",
      "[28, 63364.38290315703] -700.2881098830076 -6.269377635004275\n",
      "[29, 62651.55603800401] -782.8933258871803 -35.03323036708207\n",
      "[30, 61798.59625138267] -808.8917910564705 22.033997782436927\n",
      "[31, 61033.77245589107] -809.0275745852705 -22.1018895468369\n",
      "[32, 60180.541102212126] -843.6952383224707 4.768057678236801\n",
      "[33, 59346.38197924613] -1060.4793375887748 -113.16010731138886\n",
      "[34, 58059.58242703458] -906.0734870366214 190.36303258746557\n",
      "[35, 57534.235005172886] -596.1270566890962 -35.389817413702986\n",
      "[36, 56867.328313656384] -617.5727559253246 24.66696779558879\n",
      "[37, 56299.08949332224] -746.8934450805937 -89.32731237322332\n",
      "[38, 55373.5414234952] -834.6667192602799 45.44067528338019\n",
      "[39, 54629.75605480168] -698.1023714894945 22.841498602012507\n",
      "[40, 53977.33668051621] -699.2165562098817 -23.39859096220607\n",
      "[41, 53231.322942381914] -767.7612050294738 -10.873733447589984\n",
      "[42, 52441.81427045726] -722.8841263871363 33.3122727687587\n",
      "[43, 51785.55468960764] -951.0076283199705 -147.3740237351758\n",
      "[44, 50539.79901381732] -933.4283898685026 156.16364296090978\n",
      "[45, 49918.697909870636] -651.7104152843349 -15.304655668825944\n",
      "[46, 49236.37818324865] -607.0250521770358 37.64733722247547\n",
      "[47, 48704.647805516564] -496.260888005374 17.734744863355445\n",
      "[48, 48243.8564072379] -555.6400606487441 -47.4243311850405\n",
      "[49, 47593.367684219076] -656.6866224390251 -3.098949710099987\n",
      "[50, 46930.48316235985]\n"
     ],
     "output_type": "stream"
    }
   ],
   "source": [
    "for i,t in enumerate(results):\n",
    "    if 0 < i < len(results) - 1:\n",
    "        d1 = (results[i+1][1]-results[i-1][1])/2\n",
    "        d2 = (results[i+1][1] - 2*results[i][1] + results[i-1][1]) / 4 \n",
    "        print(t, d1, d2)\n",
    "    else:\n",
    "        print(t)"
   ],
   "metadata": {
    "collapsed": false,
    "pycharm": {
     "name": "#%%\n",
     "is_executing": false
    }
   }
  },
  {
   "cell_type": "markdown",
   "source": [
    "Below is a plot of the data above.  According to the plot below and the table above, I can see that k=22 \n",
    "is a good candidate. "
   ],
   "metadata": {
    "collapsed": false,
    "pycharm": {
     "name": "#%% md\n"
    }
   }
  },
  {
   "cell_type": "code",
   "execution_count": 8,
   "outputs": [
    {
     "data": {
      "text/plain": "<Figure size 900x600 with 1 Axes>",
      "image/png": "[encoded data removed]"
     },
     "metadata": {
      "needs_background": "light"
     },
     "output_type": "display_data"
    }
   ],
   "source": [
    "# plot k-means performance vs k\n",
    "\n",
    "plt.rcParams['figure.dpi'] = 150\n",
    "plt.plot([x[0] for x in results], [x[1] for x in results])\n",
    "plt.xticks(np.arange(0,1+max(k_range),5))\n",
    "#plt.tick_params(color='gray', labelcolor='gray')\n",
    "plt.xlabel('K', color='black')\n",
    "plt.ylabel('K-Means Inertia', color='black')\n",
    "#plt.show()\n",
    "plt.savefig('k-vs-inertia.png')"
   ],
   "metadata": {
    "collapsed": false,
    "pycharm": {
     "name": "#%%\n",
     "is_executing": false
    }
   }
  },
  {
   "cell_type": "markdown",
   "source": [
    "### 4.3 Collect the Cluster Labels for k=22\n",
    "Create a neighborhood dataframe that now includes the cluster labels. "
   ],
   "metadata": {
    "collapsed": false,
    "pycharm": {
     "name": "#%% md\n"
    }
   }
  },
  {
   "cell_type": "code",
   "execution_count": 13,
   "outputs": [],
   "source": [
    "from sklearn.cluster import KMeans\n",
    "\n",
    "dfn = pd.read_pickle('./neighborhoods.gz')\n",
    "dfp = pd.read_pickle('./planning_zones.gz')\n",
    "\n",
    "k = 22\n",
    "kmeans = KMeans(init='k-means++', n_clusters=k, random_state=0).fit(scaled_df)\n",
    "\n",
    "dff = pd.read_pickle('./features.gz')\n",
    "dff.insert(1, 'cluster_id', kmeans.labels_)\n",
    "\n",
    "df = dfp.merge(dfn, on='zone_id', suffixes=('_zone', '_nbhood')).merge(dff, on='neighborhood_id', suffixes=('_nbhood', '_feature'))\n",
    "\n",
    "df.to_pickle('./clustered_neighborhoods.gz')\n",
    "\n",
    "f = open('test.csv', 'w')\n",
    "print(','.join(df.columns), file=f)\n",
    "for index,row in df.sort_values(by='cluster_id').iterrows():\n",
    "    print('{}'.format(','.join(map(lambda q: str(q), row))), file=f)\n",
    "f.close()"
   ],
   "metadata": {
    "collapsed": false,
    "pycharm": {
     "name": "#%%\n",
     "is_executing": false
    }
   }
  },
  {
   "cell_type": "code",
   "execution_count": 1,
   "outputs": [],
   "source": [
    "import matplotlib._color_data as mcd\n",
    "import pandas as pd\n",
    "import folium\n",
    "import random\n",
    "random.seed(435)\n",
    "\n",
    "m = None\n",
    "\n",
    "keys = [\n",
    "    'red', 'red orange', 'orange', 'orange yellow', 'yellow', 'yellow green', 'green', 'green blue',\n",
    "    'blue', 'indigo', 'blue violet', 'violet', 'pink', 'olive', 'maroon', 'peach',\n",
    "    'mustard yellow', 'steel blue', 'neon pink', 'neon green', 'neon blue', 'black'\n",
    "]\n",
    "\n",
    "random.shuffle(keys)\n",
    "\n",
    "colors = list(map(lambda q: mcd.XKCD_COLORS['xkcd:'+q], keys))\n",
    "\n",
    "df = pd.read_pickle('./clustered_neighborhoods.gz')\n",
    "\n",
    "for index,row in df.sort_values(by='cluster_id').iterrows():\n",
    "    # plot directly\n",
    "    m = folium.Map([39.966,-75.1586]) \n",
    "    for name, lat, lng, cluster in zip(df['neighborhood_name'], df['latitude_nbhood'], df['longitude_nbhood'], df['cluster_id']): \n",
    "        folium.CircleMarker((lat,lng), tooltip=name, color=colors[cluster], radius=10, fill=True, fill_opacity=0.7).add_to(m)       \n",
    "m\n",
    "m.save('nbhood_2')"
   ],
   "metadata": {
    "collapsed": false,
    "pycharm": {
     "name": "#%%\n",
     "is_executing": false
    }
   }
  },
  {
   "cell_type": "code",
   "execution_count": 2,
   "outputs": [
    {
     "name": "stdout",
     "text": [
      "('Philippine BBQ', (39.73832100000001, -75.606174))\n",
      "('De La Coeur', (39.76116855688834, -75.56098948961686))\n",
      "(\"Wang's Market\", (39.68509499999999, -75.741687))\n"
     ],
     "output_type": "stream"
    }
   ],
   "source": [
    "import pandas as pd\n",
    "import geocoder\n",
    "import requests\n",
    "\n",
    "def build_target_dataframe(targets):\n",
    "    client_id = 'VUKHKNADL1KYMIMDT5L5LOWWUSSFZEJZZHGGD0Q1WUL3NZCP'\n",
    "    client_secret = '1KRPTNYDVTS34LJ41IHKHJKOPVIW4FX501NLLH0NCYDXVAHA'\n",
    "    radius = 1000\n",
    "    limit = 100   \n",
    "\n",
    "    base_url = url = 'https://api.foursquare.com/v2/venues/search?ll={},{}&intent=checkin&radius={}&client_id={}&client_secret={}&v={}&limit={}'\n",
    "    target = []\n",
    "    venue_id = []\n",
    "    venue_name = []\n",
    "    venue_cat = []\n",
    "    idx = 1\n",
    "    for name, coords in targets:\n",
    "        lat = coords[0]\n",
    "        lng = coords[1]\n",
    "        url = base_url.format(lat, lng, radius, client_id, client_secret, 20191220, limit)\n",
    "        response = requests.get(url)\n",
    "        venues = response.json()['response']['venues']\n",
    "        for v in venues:\n",
    "            vname = v['name']\n",
    "            distance = v['location']['distance']\n",
    "            in_range = distance < radius\n",
    "            if in_range:\n",
    "                for c in v['categories']:\n",
    "                    if not c['primary']:\n",
    "                        continue\n",
    "                    else:\n",
    "                        target.append(name)\n",
    "                        venue_id.append(idx)\n",
    "                        venue_cat.append(c['name'])\n",
    "                        venue_name.append(vname)\n",
    "                        idx += 1\n",
    "    target_df = pd.DataFrame({\n",
    "        'venue_id': venue_id,\n",
    "        'target_name': target,\n",
    "        'venue_name': venue_name,\n",
    "        'venue_cat': venue_cat\n",
    "    })\n",
    "    target_df.to_pickle('./targets.gz')\n",
    "\n",
    "\n",
    "new_businesses = [\n",
    "    {\n",
    "        'name': 'Philippine BBQ',\n",
    "        'address': '1700 Kirkwood Hwy, Wilmington, DE 19805'\n",
    "    },\n",
    "    {\n",
    "        'name': 'De La Coeur',\n",
    "        'address': '1836 Lovering Ave, Wilmington, DE 19806'\n",
    "    },\n",
    "    {\n",
    "        'name': \"Wang's Market\",\n",
    "        'address': '276 E Main St, Newark, DE, 19711'\n",
    "    }\n",
    "    \n",
    "]\n",
    "\n",
    "def get_coords(addr):\n",
    "    g = geocoder.arcgis(addr)\n",
    "    coords = g.geojson['features'][0]['geometry']['coordinates']\n",
    "    return coords[1],coords[0]\n",
    "    \n",
    "\n",
    "\n",
    "targets = list(map(lambda e: (e['name'], get_coords(e['address'])), new_businesses))\n",
    "for e in targets: \n",
    "    print(e)\n",
    "\n",
    "#build_target_dataframe(targets)\n",
    "\n",
    "\n"
   ],
   "metadata": {
    "collapsed": false,
    "pycharm": {
     "name": "#%%\n",
     "is_executing": false
    }
   }
  },
  {
   "cell_type": "code",
   "execution_count": 16,
   "outputs": [],
   "source": [
    "import pandas as pd\n",
    "\n",
    "targets_df = pd.read_pickle('./targets.gz')\n",
    "\n",
    "df_N = targets_df.groupby(['target_name'], as_index=False).count()\n",
    "df_CN = targets_df.groupby(['target_name', 'venue_cat'], as_index=False).count()\n",
    "\n",
    "venue_groups = []\n",
    "stats = []\n",
    "for tname, catname, count in zip(df_CN['target_name'], df_CN['venue_cat'], df_CN['venue_id']):\n",
    "    total = df_N.loc[df_N['target_name'] == tname, 'venue_cat'].values[0]\n",
    "    stats.append((tname, catname, count, total))\n",
    "    \n",
    "    # build a list of category group names, which we will summarize and add to stats later\n",
    "    \n",
    "    gg = group_map[catname] if catname in group_map else None\n",
    "    if gg is not None:\n",
    "        for g in gg:\n",
    "            venue_groups.append((tname, g))\n",
    "\n",
    "# build a temporary dataframe for the venue groups, quite similar to the venue dataframe\n",
    "\n",
    "tmp_df = pd.DataFrame({\n",
    "    'target_name': map(lambda q: q[0], venue_groups),\n",
    "    'category_group': map(lambda q: q[1], venue_groups),\n",
    "    'data': [0]*len(venue_groups)\n",
    "})\n",
    "\n",
    "# repeat the venue groupings with the group names, and add the remaining stats\n",
    "\n",
    "df_N = tmp_df.groupby(['target_name'], as_index=False).count()\n",
    "df_CN = tmp_df.groupby(['target_name', 'category_group'], as_index=False).count()\n",
    "for nid, cg, num in zip(df_CN['target_name'], df_CN['category_group'], df_CN['data']):\n",
    "    total = df_N.loc[df_N['target_name'] == nid, 'data'].values[0]\n",
    "    stats.append((nid, cg, num, total))\n",
    "\n",
    "# build and save a stats dataframe\n",
    "\n",
    "stats_df = pd.DataFrame({\n",
    "    'target_name': map(lambda t: t[0], stats),\n",
    "    'category_group' : map(lambda t: t[1], stats),\n",
    "    'count'          : map(lambda t: t[2], stats),\n",
    "    'total'          : map(lambda t: t[3], stats),\n",
    "})\n",
    "\n",
    "stats_df.to_pickle('./target_raw_stats.gz')"
   ],
   "metadata": {
    "collapsed": false,
    "pycharm": {
     "name": "#%%\n",
     "is_executing": false
    }
   }
  },
  {
   "cell_type": "code",
   "execution_count": 7,
   "outputs": [
    {
     "data": {
      "text/plain": "      target_name  Vegetarian / Vegan Restaurant  Arts & Crafts Store  \\\n0     De La Coeur                              0                    0   \n1  Philippine BBQ                              0                    0   \n2   Wang's Market                              0                    0   \n\n   American Restaurant       Gym  Hotel  Post Office  Building  Non-Profit  \\\n0             0.010753  0.010753      0            0  0.021505           0   \n1             0.000000  0.000000      0            0  0.010989           0   \n2             0.000000  0.000000      0            0  0.000000           0   \n\n   Coffee Shop  ...      Auto    Retail  Beer/Wine/Liquor  Outdoors  \\\n0     0.000000  ...  0.000000  0.224138          0.017241  0.017241   \n1     0.021978  ...  0.031250  0.234375          0.015625  0.015625   \n2     0.000000  ...  0.047619  0.285714          0.015873  0.031746   \n\n   Government Services    Beauty  ATM/Banks  Media Outlet  Residential  \\\n0             0.017241  0.034483   0.017241             0     0.034483   \n1             0.031250  0.046875   0.015625             0     0.031250   \n2             0.015873  0.015873   0.015873             0     0.015873   \n\n   Commercial  \n0    0.155172  \n1    0.125000  \n2    0.111111  \n\n[3 rows x 549 columns]",
      "text/html": "<div>\n<style scoped>\n    .dataframe tbody tr th:only-of-type {\n        vertical-align: middle;\n    }\n\n    .dataframe tbody tr th {\n        vertical-align: top;\n    }\n\n    .dataframe thead th {\n        text-align: right;\n    }\n</style>\n<table border=\"1\" class=\"dataframe\">\n  <thead>\n    <tr style=\"text-align: right;\">\n      <th></th>\n      <th>target_name</th>\n      <th>Vegetarian / Vegan Restaurant</th>\n      <th>Arts &amp; Crafts Store</th>\n      <th>American Restaurant</th>\n      <th>Gym</th>\n      <th>Hotel</th>\n      <th>Post Office</th>\n      <th>Building</th>\n      <th>Non-Profit</th>\n      <th>Coffee Shop</th>\n      <th>...</th>\n      <th>Auto</th>\n      <th>Retail</th>\n      <th>Beer/Wine/Liquor</th>\n      <th>Outdoors</th>\n      <th>Government Services</th>\n      <th>Beauty</th>\n      <th>ATM/Banks</th>\n      <th>Media Outlet</th>\n      <th>Residential</th>\n      <th>Commercial</th>\n    </tr>\n  </thead>\n  <tbody>\n    <tr>\n      <th>0</th>\n      <td>De La Coeur</td>\n      <td>0</td>\n      <td>0</td>\n      <td>0.010753</td>\n      <td>0.010753</td>\n      <td>0</td>\n      <td>0</td>\n      <td>0.021505</td>\n      <td>0</td>\n      <td>0.000000</td>\n      <td>...</td>\n      <td>0.000000</td>\n      <td>0.224138</td>\n      <td>0.017241</td>\n      <td>0.017241</td>\n      <td>0.017241</td>\n      <td>0.034483</td>\n      <td>0.017241</td>\n      <td>0</td>\n      <td>0.034483</td>\n      <td>0.155172</td>\n    </tr>\n    <tr>\n      <th>1</th>\n      <td>Philippine BBQ</td>\n      <td>0</td>\n      <td>0</td>\n      <td>0.000000</td>\n      <td>0.000000</td>\n      <td>0</td>\n      <td>0</td>\n      <td>0.010989</td>\n      <td>0</td>\n      <td>0.021978</td>\n      <td>...</td>\n      <td>0.031250</td>\n      <td>0.234375</td>\n      <td>0.015625</td>\n      <td>0.015625</td>\n      <td>0.031250</td>\n      <td>0.046875</td>\n      <td>0.015625</td>\n      <td>0</td>\n      <td>0.031250</td>\n      <td>0.125000</td>\n    </tr>\n    <tr>\n      <th>2</th>\n      <td>Wang's Market</td>\n      <td>0</td>\n      <td>0</td>\n      <td>0.000000</td>\n      <td>0.000000</td>\n      <td>0</td>\n      <td>0</td>\n      <td>0.000000</td>\n      <td>0</td>\n      <td>0.000000</td>\n      <td>...</td>\n      <td>0.047619</td>\n      <td>0.285714</td>\n      <td>0.015873</td>\n      <td>0.031746</td>\n      <td>0.015873</td>\n      <td>0.015873</td>\n      <td>0.015873</td>\n      <td>0</td>\n      <td>0.015873</td>\n      <td>0.111111</td>\n    </tr>\n  </tbody>\n</table>\n<p>3 rows × 549 columns</p>\n</div>"
     },
     "metadata": {},
     "output_type": "execute_result",
     "execution_count": 7
    }
   ],
   "source": [
    "import pandas as pd\n",
    "\n",
    "stats_df = pd.read_pickle('./target_raw_stats.gz')\n",
    "\n",
    "# process the stats into well formed rows with columns for all of the features\n",
    "\n",
    "rows = {}\n",
    "for nid,cname,num,tot in stats_df.sort_values(by=['target_name', 'category_group']).to_numpy():\n",
    "    if nid not in rows:\n",
    "        rows[nid] = [0]*len(feature_names)\n",
    "    if cname in feature_map:\n",
    "        idx = feature_map[cname]\n",
    "        rows[nid][idx] = num/tot\n",
    "\n",
    "\n",
    "# build and save the feature dataframe\n",
    "\n",
    "feature_df = pd.DataFrame(list(map(lambda q: [q]+rows[q], rows.keys())), columns=['target_name'] + feature_names)\n",
    "feature_df.to_pickle('./target_features.gz')\n",
    "feature_df.head()"
   ],
   "metadata": {
    "collapsed": false,
    "pycharm": {
     "name": "#%%\n",
     "is_executing": false
    }
   }
  },
  {
   "cell_type": "code",
   "execution_count": 19,
   "outputs": [
    {
     "data": {
      "text/plain": "array([ 7, 17,  6], dtype=int32)"
     },
     "metadata": {},
     "output_type": "execute_result",
     "execution_count": 19
    }
   ],
   "source": [
    "from sklearn.cluster import KMeans\n",
    "from sklearn.preprocessing import StandardScaler\n",
    "import matplotlib.pyplot as plt\n",
    "\n",
    "# prepare and scale the feature data\n",
    "\n",
    "xfeatures_df = pd.read_pickle('./features.gz')\n",
    "unscaled_df = xfeatures_df.drop(columns=['neighborhood_id'])\n",
    "scaler = StandardScaler()\n",
    "scaler.fit(unscaled_df)\n",
    "scaled_df = scaler.transform(feature_df.drop(columns=['target_name']))\n",
    "labels = kmeans.predict(scaled_df)\n",
    "labels"
   ],
   "metadata": {
    "collapsed": false,
    "pycharm": {
     "name": "#%%\n",
     "is_executing": false
    }
   }
  }
 ],
 "metadata": {
  "kernelspec": {
   "display_name": "Python 3",
   "language": "python",
   "name": "python3"
  },
  "language_info": {
   "codemirror_mode": {
    "name": "ipython",
    "version": 2
   },
   "file_extension": ".py",
   "mimetype": "text/x-python",
   "name": "python",
   "nbconvert_exporter": "python",
   "pygments_lexer": "ipython2",
   "version": "2.7.6"
  },
  "pycharm": {
   "stem_cell": {
    "cell_type": "raw",
    "source": [],
    "metadata": {
     "collapsed": false
    }
   }
  }
 },
 "nbformat": 4,
 "nbformat_minor": 0
}